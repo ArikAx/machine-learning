{
 "cells": [
  {
   "cell_type": "markdown",
   "metadata": {},
   "source": [
    "# Assignment 3 - Text Analysis\n",
    "An explanation this assignment could be found in the .pdf explanation document"
   ]
  },
  {
   "cell_type": "markdown",
   "metadata": {},
   "source": [
    "\n",
    "## Materials to review for this assignment\n",
    "<h4>From Moodle:</h4> \n",
    "<h5><u>Review the notebooks regarding the following python topics</u>:</h5>\n",
    "<div class=\"alert alert-info\">\n",
    "&#x2714; <b>Working with strings</b> (tutorial notebook)<br/>\n",
    "&#x2714; <b>Text Analysis</b> (tutorial notebook)<br/>\n",
    "&#x2714; <b>Hebrew text analysis tools (tokenizer, wordnet)</b> (moodle example)<br/>\n",
    "&#x2714; <b>(brief review) All previous notebooks</b><br/>\n",
    "</div> \n",
    "<h5><u>Review the presentations regarding the following topics</u>:</h5>\n",
    "<div class=\"alert alert-info\">\n",
    "&#x2714; <b>Text Analysis</b> (lecture presentation)<br/>\n",
    "&#x2714; <b>(brief review) All other presentations</b><br/>\n",
    "</div>"
   ]
  },
  {
   "cell_type": "markdown",
   "metadata": {},
   "source": [
    "## Personal Details:"
   ]
  },
  {
   "cell_type": "code",
   "execution_count": 1,
   "metadata": {
    "ExecuteTime": {
     "end_time": "2023-09-03T14:41:11.241588600Z",
     "start_time": "2023-09-03T14:41:11.207493200Z"
    }
   },
   "outputs": [],
   "source": [
    "# Details Student 1:\n",
    "\n",
    "# Details Student 2:\n"
   ]
  },
  {
   "cell_type": "markdown",
   "metadata": {},
   "source": [
    "## Preceding Step - import modules (packages)\n",
    "This step is necessary in order to use external modules (packages). <br/>"
   ]
  },
  {
   "cell_type": "code",
   "execution_count": 2,
   "metadata": {
    "ExecuteTime": {
     "end_time": "2023-09-03T14:41:12.182753300Z",
     "start_time": "2023-09-03T14:41:11.233074600Z"
    }
   },
   "outputs": [],
   "source": [
    "# --------------------------------------\n",
    "import pandas as pd\n",
    "import numpy as np\n",
    "# --------------------------------------\n",
    "\n",
    "\n",
    "# --------------------------------------\n",
    "# ------------- visualizations:\n",
    "import seaborn as sns\n",
    "import matplotlib.pyplot as plt\n",
    "from matplotlib.colors import ListedColormap\n",
    "# --------------------------------------\n",
    "\n",
    "\n",
    "# ---------------------------------------\n",
    "import sklearn\n",
    "from sklearn import preprocessing, metrics, pipeline, model_selection, feature_extraction \n",
    "from sklearn import naive_bayes, linear_model, svm, neural_network, neighbors, tree\n",
    "from sklearn import decomposition, cluster\n",
    "\n",
    "from sklearn.model_selection import train_test_split, cross_val_score, GridSearchCV \n",
    "from sklearn.pipeline import Pipeline\n",
    "from sklearn.metrics import accuracy_score, confusion_matrix\n",
    "from sklearn.metrics import precision_score, recall_score, f1_score\n",
    "from sklearn.metrics import mean_squared_error, r2_score, silhouette_score\n",
    "from sklearn.preprocessing import MinMaxScaler, StandardScaler, LabelEncoder\n",
    "\n",
    "from sklearn.svm import LinearSVC\n",
    "from sklearn.neural_network import MLPClassifier\n",
    "from sklearn.linear_model import Perceptron, SGDClassifier\n",
    "from sklearn.decomposition import PCA\n",
    "from sklearn.cluster import KMeans\n",
    "from sklearn.naive_bayes import MultinomialNB, GaussianNB\n",
    "from sklearn.neighbors import KNeighborsClassifier\n",
    "from sklearn.tree import DecisionTreeClassifier\n",
    "# ---------------------------------------\n",
    "\n",
    "\n",
    "# ----------------- output and visualizations: \n",
    "import warnings\n",
    "from sklearn.exceptions import ConvergenceWarning\n",
    "warnings.simplefilter(\"ignore\")\n",
    "warnings.simplefilter(action='ignore', category=FutureWarning)\n",
    "warnings.simplefilter(\"ignore\", category=ConvergenceWarning)\n",
    "# show several prints in one cell. This will allow us to condence every trick in one cell.\n",
    "from IPython.core.interactiveshell import InteractiveShell\n",
    "InteractiveShell.ast_node_interactivity = \"all\"\n",
    "%matplotlib inline\n",
    "pd.pandas.set_option('display.max_columns', None)\n",
    "pd.set_option('display.float_format', lambda x: '%.3f' % x)\n",
    "# ---------------------------------------"
   ]
  },
  {
   "cell_type": "markdown",
   "metadata": {},
   "source": [
    "### Text analysis and String manipulation imports:"
   ]
  },
  {
   "cell_type": "code",
   "execution_count": 3,
   "metadata": {
    "ExecuteTime": {
     "end_time": "2023-09-03T14:41:14.051068100Z",
     "start_time": "2023-09-03T14:41:14.044544600Z"
    }
   },
   "outputs": [],
   "source": [
    "# --------------------------------------\n",
    "# --------- Text analysis and Hebrew text analysis imports:\n",
    "# vectorizers:\n",
    "from sklearn.feature_extraction import text\n",
    "from sklearn.feature_extraction.text import CountVectorizer, TfidfVectorizer\n",
    "\n",
    "# regular expressions:\n",
    "import re\n",
    "# --------------------------------------"
   ]
  },
  {
   "cell_type": "markdown",
   "metadata": {},
   "source": [
    "### (optional) Hebrew text analysis - WordNet (for Hebrew)\n",
    "Note: the WordNet is not a must"
   ]
  },
  {
   "cell_type": "code",
   "execution_count": 3,
   "metadata": {
    "ExecuteTime": {
     "end_time": "2023-09-03T14:41:17.050012900Z",
     "start_time": "2023-09-03T14:41:17.036983700Z"
    }
   },
   "outputs": [],
   "source": []
  },
  {
   "cell_type": "markdown",
   "metadata": {
    "ExecuteTime": {
     "end_time": "2023-08-15T13:12:27.137702500Z",
     "start_time": "2023-08-15T13:12:24.577181400Z"
    }
   },
   "source": [
    "#### (optional) Only if you didn't install Wordnet (for Hebrew) use:"
   ]
  },
  {
   "cell_type": "code",
   "execution_count": 4,
   "metadata": {
    "ExecuteTime": {
     "end_time": "2023-09-03T14:41:26.072940700Z",
     "start_time": "2023-09-03T14:41:18.474829500Z"
    }
   },
   "outputs": [
    {
     "name": "stdout",
     "output_type": "stream",
     "text": [
      "Collecting wn\n",
      "  Downloading wn-0.9.4-py3-none-any.whl (75 kB)\n",
      "     ---------------------------------------- 75.7/75.7 kB 1.1 MB/s eta 0:00:00\n",
      "Requirement already satisfied: requests in c:\\users\\agaer\\anaconda3\\lib\\site-packages (from wn) (2.28.1)\n",
      "Requirement already satisfied: tomli in c:\\users\\agaer\\anaconda3\\lib\\site-packages (from wn) (2.0.1)\n",
      "Requirement already satisfied: idna<4,>=2.5 in c:\\users\\agaer\\anaconda3\\lib\\site-packages (from requests->wn) (3.4)\n",
      "Requirement already satisfied: certifi>=2017.4.17 in c:\\users\\agaer\\anaconda3\\lib\\site-packages (from requests->wn) (2023.5.7)\n",
      "Requirement already satisfied: urllib3<1.27,>=1.21.1 in c:\\users\\agaer\\anaconda3\\lib\\site-packages (from requests->wn) (1.26.14)\n",
      "Requirement already satisfied: charset-normalizer<3,>=2 in c:\\users\\agaer\\anaconda3\\lib\\site-packages (from requests->wn) (2.0.4)\n",
      "Installing collected packages: wn\n",
      "Successfully installed wn-0.9.4\n"
     ]
    },
    {
     "name": "stderr",
     "output_type": "stream",
     "text": [
      "\n",
      "\u001B[K\n",
      "Download (0 bytes) Requesting\n",
      "\u001B[K\n",
      "Download [                              ] (0/315276 bytes) Receiving\n",
      "\u001B[K\n",
      "Download [=                             ] (8192/315276 bytes) Receiving\n",
      "\u001B[K\n",
      "Download [#-                            ] (16384/315276 bytes) Receiving\n",
      "\u001B[K\n",
      "Download [##-                           ] (24576/315276 bytes) Receiving\n",
      "\u001B[K\n",
      "Download [###                           ] (32768/315276 bytes) Receiving\n",
      "\u001B[K\n",
      "Download [###=                          ] (40960/315276 bytes) Receiving\n",
      "\u001B[K\n",
      "Download [####=                         ] (49152/315276 bytes) Receiving\n",
      "\u001B[K\n",
      "Download [#####-                        ] (57344/315276 bytes) Receiving\n",
      "\u001B[K\n",
      "Download [######                        ] (65536/315276 bytes) Receiving\n",
      "\u001B[K\n",
      "Download [#######                       ] (73728/315276 bytes) Receiving\n",
      "\u001B[K\n",
      "Download [#######=                      ] (81920/315276 bytes) Receiving\n",
      "\u001B[K\n",
      "Download [########-                     ] (90112/315276 bytes) Receiving\n",
      "\u001B[K\n",
      "Download [#########-                    ] (98304/315276 bytes) Receiving\n",
      "\u001B[K\n",
      "Download [##########                    ] (106496/315276 bytes) Receiving\n",
      "\u001B[K\n",
      "Download [##########=                   ] (114688/315276 bytes) Receiving\n",
      "\u001B[K\n",
      "Download [###########=                  ] (122880/315276 bytes) Receiving\n",
      "\u001B[K\n",
      "Download [############-                 ] (131072/315276 bytes) Receiving\n",
      "\u001B[K\n",
      "Download [#############                 ] (139264/315276 bytes) Receiving\n",
      "\u001B[K\n",
      "Download [##############                ] (147456/315276 bytes) Receiving\n",
      "\u001B[K\n",
      "Download [##############=               ] (155648/315276 bytes) Receiving\n",
      "\u001B[K\n",
      "Download [###############-              ] (163840/315276 bytes) Receiving\n",
      "\u001B[K\n",
      "Download [################-             ] (172032/315276 bytes) Receiving\n",
      "\u001B[K\n",
      "Download [#################             ] (180224/315276 bytes) Receiving\n",
      "\u001B[K\n",
      "Download [#################=            ] (188416/315276 bytes) Receiving\n",
      "\u001B[K\n",
      "Download [##################=           ] (196608/315276 bytes) Receiving\n",
      "\u001B[K\n",
      "Download [###################-          ] (204800/315276 bytes) Receiving\n",
      "\u001B[K\n",
      "Download [####################          ] (212992/315276 bytes) Receiving\n",
      "\u001B[K\n",
      "Download [#####################         ] (221184/315276 bytes) Receiving\n",
      "\u001B[K\n",
      "Download [#####################=        ] (229376/315276 bytes) Receiving\n",
      "\u001B[K\n",
      "Download [######################-       ] (237568/315276 bytes) Receiving\n",
      "\u001B[K\n",
      "Download [#######################-      ] (245760/315276 bytes) Receiving\n",
      "\u001B[K\n",
      "Download [########################      ] (253952/315276 bytes) Receiving\n",
      "\u001B[K\n",
      "Download [########################=     ] (262144/315276 bytes) Receiving\n",
      "\u001B[K\n",
      "Download [#########################=    ] (270336/315276 bytes) Receiving\n",
      "\u001B[K\n",
      "Download [##########################-   ] (278528/315276 bytes) Receiving\n",
      "\u001B[K\n",
      "Download [###########################   ] (286720/315276 bytes) Receiving\n",
      "\u001B[K\n",
      "Download [############################  ] (294912/315276 bytes) Receiving\n",
      "\u001B[K\n",
      "Download [############################= ] (303104/315276 bytes) Receiving\n",
      "\u001B[K\n",
      "Download [#############################-] (311296/315276 bytes) Receiving\n",
      "\u001B[K\n",
      "Download [##############################] (315276/315276 bytes) Receiving\n",
      "\u001B[K\n",
      "Download [##############################] (315276/315276 bytes) Complete\n",
      "\n",
      "\u001B[KChecking C:\\Users\\agaer\\AppData\\Local\\Temp\\tmpqj8u9omi\\omw-he\\omw-he.xml\n",
      "\u001B[KReading C:\\Users\\agaer\\AppData\\Local\\Temp\\tmpqj8u9omi\\omw-he\\omw-he.xml\n",
      "\u001B[K\n",
      "Read [##########                    ] (10000/29690) \n",
      "\u001B[K\n",
      "Read [####################          ] (20000/29690) \n",
      "\u001B[K\n",
      "Read [##############################] (29690/29690) \n",
      "\n",
      "\u001B[KUpdating lookup tables\n",
      "\u001B[K\n",
      "Database [                              ] (0/29687) \n",
      "\u001B[K\n",
      "Database [                              ] (0/29687) Lexicon Info\n",
      "\u001B[K\n",
      "Database [                              ] (0/29687) Synsets\n",
      "\u001B[K\n",
      "Database [#                             ] (1000/29687) Synsets\n",
      "\u001B[K\n",
      "Database [##                            ] (2000/29687) Synsets\n",
      "\u001B[K\n",
      "Database [###                           ] (3000/29687) Synsets\n",
      "\u001B[K\n",
      "Database [####                          ] (4000/29687) Synsets\n",
      "\u001B[K\n",
      "Database [#####                         ] (5000/29687) Synsets\n",
      "\u001B[K\n",
      "Database [#####-                        ] (5448/29687) Synsets\n",
      "\u001B[K\n",
      "Database [#####-                        ] (5448/29687) Words\n",
      "\u001B[K\n",
      "Database [######-                       ] (6448/29687) Words\n",
      "\u001B[K\n",
      "Database [#######-                      ] (7448/29687) Words\n",
      "\u001B[K\n",
      "Database [########-                     ] (8448/29687) Words\n",
      "\u001B[K\n",
      "Database [#########-                    ] (9448/29687) Words\n",
      "\u001B[K\n",
      "Database [##########-                   ] (10448/29687) Words\n",
      "\u001B[K\n",
      "Database [##########=                   ] (10827/29687) Words\n",
      "\u001B[K\n",
      "Database [##########=                   ] (10827/29687) Word Forms\n",
      "\u001B[K\n",
      "Database [###########=                  ] (11827/29687) Word Forms\n",
      "\u001B[K\n",
      "Database [############=                 ] (12827/29687) Word Forms\n",
      "\u001B[K\n",
      "Database [#############=                ] (13827/29687) Word Forms\n",
      "\u001B[K\n",
      "Database [##############=               ] (14827/29687) Word Forms\n",
      "\u001B[K\n",
      "Database [###############=              ] (15827/29687) Word Forms\n",
      "\u001B[K\n",
      "Database [################-             ] (16206/29687) Word Forms\n",
      "\u001B[K\n",
      "Database [################-             ] (16206/29687) Pronunciations\n",
      "\u001B[K\n",
      "Database [################-             ] (16206/29687) Pronunciations\n",
      "\u001B[K\n",
      "Database [################-             ] (16206/29687) Pronunciations\n",
      "\u001B[K\n",
      "Database [################-             ] (16206/29687) Pronunciations\n",
      "\u001B[K\n",
      "Database [################-             ] (16206/29687) Pronunciations\n",
      "\u001B[K\n",
      "Database [################-             ] (16206/29687) Pronunciations\n",
      "\u001B[K\n",
      "Database [################-             ] (16206/29687) Pronunciations\n",
      "\u001B[K\n",
      "Database [################-             ] (16206/29687) Word Form Tags\n",
      "\u001B[K\n",
      "Database [################-             ] (16206/29687) Word Form Tags\n",
      "\u001B[K\n",
      "Database [################-             ] (16206/29687) Word Form Tags\n",
      "\u001B[K\n",
      "Database [################-             ] (16206/29687) Word Form Tags\n",
      "\u001B[K\n",
      "Database [################-             ] (16206/29687) Word Form Tags\n",
      "\u001B[K\n",
      "Database [################-             ] (16206/29687) Word Form Tags\n",
      "\u001B[K\n",
      "Database [################-             ] (16206/29687) Word Form Tags\n",
      "\u001B[K\n",
      "Database [################-             ] (16206/29687) Senses\n",
      "\u001B[K\n",
      "Database [##################            ] (17901/29687) Senses\n",
      "\u001B[K\n",
      "Database [###################-          ] (19154/29687) Senses\n",
      "\u001B[K\n",
      "Database [####################-         ] (20319/29687) Senses\n",
      "\u001B[K\n",
      "Database [#####################=        ] (21531/29687) Senses\n",
      "\u001B[K\n",
      "Database [######################=       ] (22671/29687) Senses\n",
      "\u001B[K\n",
      "Database [#######################       ] (23078/29687) Senses\n",
      "\u001B[K\n",
      "Database [#######################       ] (23078/29687) Sense Adjpositions\n",
      "\u001B[K\n",
      "Database [#######################       ] (23078/29687) Counts\n",
      "\u001B[K\n",
      "Database [#######################       ] (23078/29687) Counts\n",
      "\u001B[K\n",
      "Database [#######################       ] (23078/29687) Syntactic Behaviours\n",
      "\u001B[K\n",
      "Database [#######################       ] (23078/29687) Syntactic Behaviours\n",
      "\u001B[K\n",
      "Database [#######################       ] (23078/29687) Synset Relations\n",
      "\u001B[K\n",
      "Database [#######################       ] (23078/29687) Synset Relations\n",
      "\u001B[K\n",
      "Database [#######################       ] (23078/29687) Synset Relations\n",
      "\u001B[K\n",
      "Database [#######################       ] (23078/29687) Synset Relations\n",
      "\u001B[K\n",
      "Database [#######################       ] (23078/29687) Synset Relations\n",
      "\u001B[K\n",
      "Database [#######################       ] (23078/29687) Synset Relations\n",
      "\u001B[K\n",
      "Database [#######################       ] (23078/29687) Synset Relations\n",
      "\u001B[K\n",
      "Database [#######################       ] (23078/29687) Sense Relations\n",
      "\u001B[K\n",
      "Database [#######################       ] (23078/29687) Definitions\n",
      "\u001B[K\n",
      "Database [########################=     ] (24503/29687) Definitions\n",
      "\u001B[K\n",
      "Database [##########################    ] (25778/29687) Definitions\n",
      "\u001B[K\n",
      "Database [###########################   ] (27015/29687) Definitions\n",
      "\u001B[K\n",
      "Database [############################- ] (28283/29687) Definitions\n",
      "\u001B[K\n",
      "Database [#############################-] (29140/29687) Definitions\n",
      "\u001B[K\n",
      "Database [##############################] (29687/29687) Definitions\n",
      "\u001B[K\n",
      "Database [##############################] (29687/29687) Examples\n",
      "\u001B[K\n",
      "Database [##############################] (29687/29687) Examples\n",
      "\u001B[K\n",
      "Database [##############################] (29687/29687) Examples\n",
      "\u001B[K\n",
      "Database [##############################] (29687/29687) Examples\n",
      "\u001B[K\n",
      "Database [##############################] (29687/29687) Examples\n",
      "\u001B[K\n",
      "Database [##############################] (29687/29687) Examples\n",
      "\u001B[K\n",
      "Database [##############################] (29687/29687) Examples\n",
      "\u001B[K\n",
      "Database [##############################] (29687/29687) Examples\n",
      "\u001B[K\n",
      "Database [##############################] (29687/29687) Examples\n",
      "\u001B[K\n",
      "Database [##############################] (29687/29687) Examples\n",
      "\u001B[K\n",
      "Database [##############################] (29687/29687) Examples\n",
      "\u001B[K\n",
      "Database [##############################] (29687/29687) Examples\n",
      "\u001B[K\n",
      "Database [##############################] (29687/29687) Examples\n",
      "\u001B[K\n",
      "Database [##############################] (29687/29687) Examples\n",
      "\u001B[K\n",
      "Database [##############################] (29687/29687) Examples\n",
      "\u001B[K\n",
      "Database [##############################] (29687/29687) \n",
      "\u001B[KAdded omw-he:1.4 (Hebrew Wordnet)\n",
      "\n"
     ]
    }
   ],
   "source": [
    "# word net installation:\n",
    "\n",
    "# unmark if you want to use and need to install\n",
    "!pip install wn\n",
    "!python -m wn download omw-he:1.4"
   ]
  },
  {
   "cell_type": "code",
   "execution_count": 5,
   "metadata": {
    "ExecuteTime": {
     "end_time": "2023-09-03T14:41:29.169348200Z",
     "start_time": "2023-09-03T14:41:29.038956900Z"
    }
   },
   "outputs": [],
   "source": [
    "# word net import:\n",
    "\n",
    "# unmark if you want to use:\n",
    "import wn"
   ]
  },
  {
   "cell_type": "markdown",
   "metadata": {},
   "source": [
    "### (optional) Hebrew text analysis - hebrew_tokenizer (Tokenizer for Hebrew)\n",
    "Note: the hebrew_tokenizer is not a must"
   ]
  },
  {
   "cell_type": "markdown",
   "metadata": {
    "ExecuteTime": {
     "end_time": "2023-08-15T13:14:07.842418800Z",
     "start_time": "2023-08-15T13:14:07.826788200Z"
    }
   },
   "source": [
    "#### (optional) Only if you didn't install hebrew_tokenizer use:"
   ]
  },
  {
   "cell_type": "code",
   "execution_count": 6,
   "metadata": {
    "ExecuteTime": {
     "end_time": "2023-09-03T14:41:42.161371700Z",
     "start_time": "2023-09-03T14:41:34.158999Z"
    }
   },
   "outputs": [
    {
     "name": "stdout",
     "output_type": "stream",
     "text": [
      "Collecting hebrew_tokenizer\n",
      "  Downloading hebrew_tokenizer-2.3.0.tar.gz (13 kB)\n",
      "  Preparing metadata (setup.py): started\n",
      "  Preparing metadata (setup.py): finished with status 'done'\n",
      "Building wheels for collected packages: hebrew_tokenizer\n",
      "  Building wheel for hebrew_tokenizer (setup.py): started\n",
      "  Building wheel for hebrew_tokenizer (setup.py): finished with status 'done'\n",
      "  Created wheel for hebrew_tokenizer: filename=hebrew_tokenizer-2.3.0-py3-none-any.whl size=13425 sha256=059b6fab368d413c616e956f36957d2d645447b3befa1abc8bfcf4e5e419e813\n",
      "  Stored in directory: c:\\users\\agaer\\appdata\\local\\pip\\cache\\wheels\\1b\\f5\\53\\2b75acbddd5d9389b70014f7cc2c9bddecade5d168e7716c48\n",
      "Successfully built hebrew_tokenizer\n",
      "Installing collected packages: hebrew_tokenizer\n",
      "Successfully installed hebrew_tokenizer-2.3.0\n"
     ]
    }
   ],
   "source": [
    "# Hebrew tokenizer installation:\n",
    "\n",
    "# unmark if you want to use and need to install:\n",
    "!pip install hebrew_tokenizer"
   ]
  },
  {
   "cell_type": "code",
   "execution_count": 7,
   "metadata": {
    "ExecuteTime": {
     "end_time": "2023-09-03T14:41:45.368101300Z",
     "start_time": "2023-09-03T14:41:45.353559500Z"
    }
   },
   "outputs": [
    {
     "name": "stdout",
     "output_type": "stream",
     "text": [
      "C:\\Users\\agaer\\machine-learning\n"
     ]
    }
   ],
   "source": [
    "# Hebrew tokenizer import:\n",
    "\n",
    "# unmark if you want to use:\n",
    "import hebrew_tokenizer as ht"
   ]
  },
  {
   "cell_type": "markdown",
   "metadata": {
    "ExecuteTime": {
     "end_time": "2023-08-15T13:14:10.397223800Z",
     "start_time": "2023-08-15T13:14:10.256194200Z"
    }
   },
   "source": [
    "### Reading input files\n",
    "Reading input files for train annotated corpus (raw text data) corpus and for the test corpus"
   ]
  },
  {
   "cell_type": "code",
   "execution_count": 8,
   "metadata": {
    "ExecuteTime": {
     "end_time": "2023-09-03T14:41:50.520368100Z",
     "start_time": "2023-09-03T14:41:50.474267300Z"
    }
   },
   "outputs": [],
   "source": [
    "train_filename = 'annotated_corpus_for_train.csv'\n",
    "test_filename  = 'corpus_for_test.csv'\n",
    "df_train = pd.read_csv(train_filename, index_col=None, encoding='utf-8')\n",
    "df_test  = pd.read_csv(test_filename, index_col=None, encoding='utf-8')"
   ]
  },
  {
   "cell_type": "code",
   "execution_count": 9,
   "metadata": {
    "ExecuteTime": {
     "end_time": "2023-09-03T14:42:00.155895800Z",
     "start_time": "2023-09-03T14:42:00.119784200Z"
    }
   },
   "outputs": [
    {
     "data": {
      "text/plain": "                                               story gender\n0  כשחבר הזמין אותי לחול, לא באמת חשבתי שזה יקרה,...      m\n1  לפני שהתגייסתי לצבא עשיתי כל מני מיונים ליחידו...      m\n2  מאז שהתחילו הלימודים חלומו של כל סטודנט זה הפנ...      f\n3  כשהייתי ילד, מטוסים היה הדבר שהכי ריתק אותי. ב...      m\n4  ‏הייתי מדריכה בכפר נוער ומתאם הכפר היינו צריכי...      f\n5  לפני כ3 חודשים טסתי לרומא למשך שבוע. טסתי במטו...      f\n6  אני כבר שנתיים נשוי והשנה אני ואישתי סוף סוף י...      m\n7  השנה התחלנו שיפוץ בדירה שלנו בתל אביב. הדירה ה...      f",
      "text/html": "<div>\n<style scoped>\n    .dataframe tbody tr th:only-of-type {\n        vertical-align: middle;\n    }\n\n    .dataframe tbody tr th {\n        vertical-align: top;\n    }\n\n    .dataframe thead th {\n        text-align: right;\n    }\n</style>\n<table border=\"1\" class=\"dataframe\">\n  <thead>\n    <tr style=\"text-align: right;\">\n      <th></th>\n      <th>story</th>\n      <th>gender</th>\n    </tr>\n  </thead>\n  <tbody>\n    <tr>\n      <th>0</th>\n      <td>כשחבר הזמין אותי לחול, לא באמת חשבתי שזה יקרה,...</td>\n      <td>m</td>\n    </tr>\n    <tr>\n      <th>1</th>\n      <td>לפני שהתגייסתי לצבא עשיתי כל מני מיונים ליחידו...</td>\n      <td>m</td>\n    </tr>\n    <tr>\n      <th>2</th>\n      <td>מאז שהתחילו הלימודים חלומו של כל סטודנט זה הפנ...</td>\n      <td>f</td>\n    </tr>\n    <tr>\n      <th>3</th>\n      <td>כשהייתי ילד, מטוסים היה הדבר שהכי ריתק אותי. ב...</td>\n      <td>m</td>\n    </tr>\n    <tr>\n      <th>4</th>\n      <td>‏הייתי מדריכה בכפר נוער ומתאם הכפר היינו צריכי...</td>\n      <td>f</td>\n    </tr>\n    <tr>\n      <th>5</th>\n      <td>לפני כ3 חודשים טסתי לרומא למשך שבוע. טסתי במטו...</td>\n      <td>f</td>\n    </tr>\n    <tr>\n      <th>6</th>\n      <td>אני כבר שנתיים נשוי והשנה אני ואישתי סוף סוף י...</td>\n      <td>m</td>\n    </tr>\n    <tr>\n      <th>7</th>\n      <td>השנה התחלנו שיפוץ בדירה שלנו בתל אביב. הדירה ה...</td>\n      <td>f</td>\n    </tr>\n  </tbody>\n</table>\n</div>"
     },
     "execution_count": 9,
     "metadata": {},
     "output_type": "execute_result"
    },
    {
     "data": {
      "text/plain": "(753, 2)"
     },
     "execution_count": 9,
     "metadata": {},
     "output_type": "execute_result"
    }
   ],
   "source": [
    "df_train.head(8)\n",
    "df_train.shape "
   ]
  },
  {
   "cell_type": "code",
   "execution_count": 10,
   "metadata": {
    "ExecuteTime": {
     "end_time": "2023-09-03T14:42:04.873360800Z",
     "start_time": "2023-09-03T14:42:04.852328300Z"
    }
   },
   "outputs": [
    {
     "data": {
      "text/plain": "   test_example_id                                              story\n0                0  כל קיץ אני והמשפחה נוסעים לארצות הברית לוס אנג...\n1                1  הגעתי לשירות המדינה אחרי שנתיים כפעיל בתנועת \"...\n2                2  אחת האהבות הגדולות שלי אלו הכלבים שלי ושל אישת...",
      "text/html": "<div>\n<style scoped>\n    .dataframe tbody tr th:only-of-type {\n        vertical-align: middle;\n    }\n\n    .dataframe tbody tr th {\n        vertical-align: top;\n    }\n\n    .dataframe thead th {\n        text-align: right;\n    }\n</style>\n<table border=\"1\" class=\"dataframe\">\n  <thead>\n    <tr style=\"text-align: right;\">\n      <th></th>\n      <th>test_example_id</th>\n      <th>story</th>\n    </tr>\n  </thead>\n  <tbody>\n    <tr>\n      <th>0</th>\n      <td>0</td>\n      <td>כל קיץ אני והמשפחה נוסעים לארצות הברית לוס אנג...</td>\n    </tr>\n    <tr>\n      <th>1</th>\n      <td>1</td>\n      <td>הגעתי לשירות המדינה אחרי שנתיים כפעיל בתנועת \"...</td>\n    </tr>\n    <tr>\n      <th>2</th>\n      <td>2</td>\n      <td>אחת האהבות הגדולות שלי אלו הכלבים שלי ושל אישת...</td>\n    </tr>\n  </tbody>\n</table>\n</div>"
     },
     "execution_count": 10,
     "metadata": {},
     "output_type": "execute_result"
    },
    {
     "data": {
      "text/plain": "(323, 2)"
     },
     "execution_count": 10,
     "metadata": {},
     "output_type": "execute_result"
    }
   ],
   "source": [
    "df_test.head(3)\n",
    "df_test.shape"
   ]
  },
  {
   "cell_type": "markdown",
   "metadata": {},
   "source": [
    "### Your implementation:\n",
    "Write your code solution in the following code-cells"
   ]
  },
  {
   "cell_type": "code",
   "execution_count": 24,
   "metadata": {
    "ExecuteTime": {
     "end_time": "2023-09-03T14:58:58.100821400Z",
     "start_time": "2023-09-03T14:58:58.083291200Z"
    }
   },
   "outputs": [],
   "source": [
    "label_encoder = LabelEncoder()\n",
    "y = label_encoder.fit_transform(df_train['gender'])\n",
    "X = df_train['story']\n",
    "\n",
    "\n"
   ]
  },
  {
   "cell_type": "code",
   "execution_count": 19,
   "metadata": {
    "ExecuteTime": {
     "end_time": "2023-09-03T14:46:22.145162500Z",
     "start_time": "2023-09-03T14:46:22.136651800Z"
    }
   },
   "outputs": [],
   "source": [
    "def heb_token(data_text):\n",
    "    tokens = ht.tokenize(data_text)  \n",
    "    token_text=[]\n",
    "    \n",
    "    for grp, token, token_num, (start_index, end_index) in tokens:\n",
    "        if grp == 'HEBREW':\n",
    "            token_text.append(token)\n",
    "       \n",
    "    return token_text"
   ]
  },
  {
   "cell_type": "code",
   "execution_count": 20,
   "metadata": {
    "ExecuteTime": {
     "end_time": "2023-09-03T14:47:16.959651Z",
     "start_time": "2023-09-03T14:46:23.999606100Z"
    }
   },
   "outputs": [
    {
     "data": {
      "text/plain": "GridSearchCV(cv=10,\n             estimator=Pipeline(steps=[('vectorizer', CountVectorizer()),\n                                       ('normalizer', Normalizer()),\n                                       ('clf', KNeighborsClassifier())]),\n             param_grid={'clf__n_neighbors': [5, 9],\n                         'normalizer__norm': ['l1', 'l2'],\n                         'vectorizer__tokenizer': [<function heb_token at 0x000001826CA54AF0>]},\n             scoring='f1_macro')",
      "text/html": "<style>#sk-container-id-2 {color: black;background-color: white;}#sk-container-id-2 pre{padding: 0;}#sk-container-id-2 div.sk-toggleable {background-color: white;}#sk-container-id-2 label.sk-toggleable__label {cursor: pointer;display: block;width: 100%;margin-bottom: 0;padding: 0.3em;box-sizing: border-box;text-align: center;}#sk-container-id-2 label.sk-toggleable__label-arrow:before {content: \"▸\";float: left;margin-right: 0.25em;color: #696969;}#sk-container-id-2 label.sk-toggleable__label-arrow:hover:before {color: black;}#sk-container-id-2 div.sk-estimator:hover label.sk-toggleable__label-arrow:before {color: black;}#sk-container-id-2 div.sk-toggleable__content {max-height: 0;max-width: 0;overflow: hidden;text-align: left;background-color: #f0f8ff;}#sk-container-id-2 div.sk-toggleable__content pre {margin: 0.2em;color: black;border-radius: 0.25em;background-color: #f0f8ff;}#sk-container-id-2 input.sk-toggleable__control:checked~div.sk-toggleable__content {max-height: 200px;max-width: 100%;overflow: auto;}#sk-container-id-2 input.sk-toggleable__control:checked~label.sk-toggleable__label-arrow:before {content: \"▾\";}#sk-container-id-2 div.sk-estimator input.sk-toggleable__control:checked~label.sk-toggleable__label {background-color: #d4ebff;}#sk-container-id-2 div.sk-label input.sk-toggleable__control:checked~label.sk-toggleable__label {background-color: #d4ebff;}#sk-container-id-2 input.sk-hidden--visually {border: 0;clip: rect(1px 1px 1px 1px);clip: rect(1px, 1px, 1px, 1px);height: 1px;margin: -1px;overflow: hidden;padding: 0;position: absolute;width: 1px;}#sk-container-id-2 div.sk-estimator {font-family: monospace;background-color: #f0f8ff;border: 1px dotted black;border-radius: 0.25em;box-sizing: border-box;margin-bottom: 0.5em;}#sk-container-id-2 div.sk-estimator:hover {background-color: #d4ebff;}#sk-container-id-2 div.sk-parallel-item::after {content: \"\";width: 100%;border-bottom: 1px solid gray;flex-grow: 1;}#sk-container-id-2 div.sk-label:hover label.sk-toggleable__label {background-color: #d4ebff;}#sk-container-id-2 div.sk-serial::before {content: \"\";position: absolute;border-left: 1px solid gray;box-sizing: border-box;top: 0;bottom: 0;left: 50%;z-index: 0;}#sk-container-id-2 div.sk-serial {display: flex;flex-direction: column;align-items: center;background-color: white;padding-right: 0.2em;padding-left: 0.2em;position: relative;}#sk-container-id-2 div.sk-item {position: relative;z-index: 1;}#sk-container-id-2 div.sk-parallel {display: flex;align-items: stretch;justify-content: center;background-color: white;position: relative;}#sk-container-id-2 div.sk-item::before, #sk-container-id-2 div.sk-parallel-item::before {content: \"\";position: absolute;border-left: 1px solid gray;box-sizing: border-box;top: 0;bottom: 0;left: 50%;z-index: -1;}#sk-container-id-2 div.sk-parallel-item {display: flex;flex-direction: column;z-index: 1;position: relative;background-color: white;}#sk-container-id-2 div.sk-parallel-item:first-child::after {align-self: flex-end;width: 50%;}#sk-container-id-2 div.sk-parallel-item:last-child::after {align-self: flex-start;width: 50%;}#sk-container-id-2 div.sk-parallel-item:only-child::after {width: 0;}#sk-container-id-2 div.sk-dashed-wrapped {border: 1px dashed gray;margin: 0 0.4em 0.5em 0.4em;box-sizing: border-box;padding-bottom: 0.4em;background-color: white;}#sk-container-id-2 div.sk-label label {font-family: monospace;font-weight: bold;display: inline-block;line-height: 1.2em;}#sk-container-id-2 div.sk-label-container {text-align: center;}#sk-container-id-2 div.sk-container {/* jupyter's `normalize.less` sets `[hidden] { display: none; }` but bootstrap.min.css set `[hidden] { display: none !important; }` so we also need the `!important` here to be able to override the default hidden behavior on the sphinx rendered scikit-learn.org. See: https://github.com/scikit-learn/scikit-learn/issues/21755 */display: inline-block !important;position: relative;}#sk-container-id-2 div.sk-text-repr-fallback {display: none;}</style><div id=\"sk-container-id-2\" class=\"sk-top-container\"><div class=\"sk-text-repr-fallback\"><pre>GridSearchCV(cv=10,\n             estimator=Pipeline(steps=[(&#x27;vectorizer&#x27;, CountVectorizer()),\n                                       (&#x27;normalizer&#x27;, Normalizer()),\n                                       (&#x27;clf&#x27;, KNeighborsClassifier())]),\n             param_grid={&#x27;clf__n_neighbors&#x27;: [5, 9],\n                         &#x27;normalizer__norm&#x27;: [&#x27;l1&#x27;, &#x27;l2&#x27;],\n                         &#x27;vectorizer__tokenizer&#x27;: [&lt;function heb_token at 0x000001826CA54AF0&gt;]},\n             scoring=&#x27;f1_macro&#x27;)</pre><b>In a Jupyter environment, please rerun this cell to show the HTML representation or trust the notebook. <br />On GitHub, the HTML representation is unable to render, please try loading this page with nbviewer.org.</b></div><div class=\"sk-container\" hidden><div class=\"sk-item sk-dashed-wrapped\"><div class=\"sk-label-container\"><div class=\"sk-label sk-toggleable\"><input class=\"sk-toggleable__control sk-hidden--visually\" id=\"sk-estimator-id-6\" type=\"checkbox\" ><label for=\"sk-estimator-id-6\" class=\"sk-toggleable__label sk-toggleable__label-arrow\">GridSearchCV</label><div class=\"sk-toggleable__content\"><pre>GridSearchCV(cv=10,\n             estimator=Pipeline(steps=[(&#x27;vectorizer&#x27;, CountVectorizer()),\n                                       (&#x27;normalizer&#x27;, Normalizer()),\n                                       (&#x27;clf&#x27;, KNeighborsClassifier())]),\n             param_grid={&#x27;clf__n_neighbors&#x27;: [5, 9],\n                         &#x27;normalizer__norm&#x27;: [&#x27;l1&#x27;, &#x27;l2&#x27;],\n                         &#x27;vectorizer__tokenizer&#x27;: [&lt;function heb_token at 0x000001826CA54AF0&gt;]},\n             scoring=&#x27;f1_macro&#x27;)</pre></div></div></div><div class=\"sk-parallel\"><div class=\"sk-parallel-item\"><div class=\"sk-item\"><div class=\"sk-label-container\"><div class=\"sk-label sk-toggleable\"><input class=\"sk-toggleable__control sk-hidden--visually\" id=\"sk-estimator-id-7\" type=\"checkbox\" ><label for=\"sk-estimator-id-7\" class=\"sk-toggleable__label sk-toggleable__label-arrow\">estimator: Pipeline</label><div class=\"sk-toggleable__content\"><pre>Pipeline(steps=[(&#x27;vectorizer&#x27;, CountVectorizer()), (&#x27;normalizer&#x27;, Normalizer()),\n                (&#x27;clf&#x27;, KNeighborsClassifier())])</pre></div></div></div><div class=\"sk-serial\"><div class=\"sk-item\"><div class=\"sk-serial\"><div class=\"sk-item\"><div class=\"sk-estimator sk-toggleable\"><input class=\"sk-toggleable__control sk-hidden--visually\" id=\"sk-estimator-id-8\" type=\"checkbox\" ><label for=\"sk-estimator-id-8\" class=\"sk-toggleable__label sk-toggleable__label-arrow\">CountVectorizer</label><div class=\"sk-toggleable__content\"><pre>CountVectorizer()</pre></div></div></div><div class=\"sk-item\"><div class=\"sk-estimator sk-toggleable\"><input class=\"sk-toggleable__control sk-hidden--visually\" id=\"sk-estimator-id-9\" type=\"checkbox\" ><label for=\"sk-estimator-id-9\" class=\"sk-toggleable__label sk-toggleable__label-arrow\">Normalizer</label><div class=\"sk-toggleable__content\"><pre>Normalizer()</pre></div></div></div><div class=\"sk-item\"><div class=\"sk-estimator sk-toggleable\"><input class=\"sk-toggleable__control sk-hidden--visually\" id=\"sk-estimator-id-10\" type=\"checkbox\" ><label for=\"sk-estimator-id-10\" class=\"sk-toggleable__label sk-toggleable__label-arrow\">KNeighborsClassifier</label><div class=\"sk-toggleable__content\"><pre>KNeighborsClassifier()</pre></div></div></div></div></div></div></div></div></div></div></div></div>"
     },
     "execution_count": 20,
     "metadata": {},
     "output_type": "execute_result"
    },
    {
     "name": "stdout",
     "output_type": "stream",
     "text": [
      "Best parameter (CV score=0.516):\n",
      "{'clf__n_neighbors': 5, 'normalizer__norm': 'l2', 'vectorizer__tokenizer': <function heb_token at 0x000001826CA54AF0>}\n"
     ]
    }
   ],
   "source": [
    " \n",
    "pipe=Pipeline([(\"vectorizer\",CountVectorizer()),\n",
    "             (\"normalizer\",preprocessing.Normalizer()),\n",
    "            (\"clf\",KNeighborsClassifier())])\n",
    "knn_grid={\"vectorizer__tokenizer\":[heb_token], \"normalizer__norm\":[\"l1\",\"l2\"],\n",
    "         \"clf__n_neighbors\":[5,9]}\n",
    "search_knn=GridSearchCV(pipe,knn_grid,cv=10,scoring=\"f1_macro\")\n",
    "search_knn.fit(X,y)\n",
    "print(\"Best parameter (CV score=%0.3f):\" % search_knn.best_score_)\n",
    "print(search_knn.best_params_)"
   ]
  },
  {
   "cell_type": "code",
   "execution_count": 22,
   "metadata": {
    "ExecuteTime": {
     "end_time": "2023-09-03T14:53:05.544580500Z",
     "start_time": "2023-09-03T14:52:12.337380500Z"
    }
   },
   "outputs": [
    {
     "data": {
      "text/plain": "GridSearchCV(cv=10,\n             estimator=Pipeline(steps=[('vectorizer', TfidfVectorizer()),\n                                       ('normalizer', Normalizer()),\n                                       ('clf', KNeighborsClassifier())]),\n             param_grid={'clf__n_neighbors': [5, 9],\n                         'normalizer__norm': ['l1', 'l2'],\n                         'vectorizer__tokenizer': [<function heb_token at 0x000001826CA54AF0>]},\n             scoring='f1_macro')",
      "text/html": "<style>#sk-container-id-4 {color: black;background-color: white;}#sk-container-id-4 pre{padding: 0;}#sk-container-id-4 div.sk-toggleable {background-color: white;}#sk-container-id-4 label.sk-toggleable__label {cursor: pointer;display: block;width: 100%;margin-bottom: 0;padding: 0.3em;box-sizing: border-box;text-align: center;}#sk-container-id-4 label.sk-toggleable__label-arrow:before {content: \"▸\";float: left;margin-right: 0.25em;color: #696969;}#sk-container-id-4 label.sk-toggleable__label-arrow:hover:before {color: black;}#sk-container-id-4 div.sk-estimator:hover label.sk-toggleable__label-arrow:before {color: black;}#sk-container-id-4 div.sk-toggleable__content {max-height: 0;max-width: 0;overflow: hidden;text-align: left;background-color: #f0f8ff;}#sk-container-id-4 div.sk-toggleable__content pre {margin: 0.2em;color: black;border-radius: 0.25em;background-color: #f0f8ff;}#sk-container-id-4 input.sk-toggleable__control:checked~div.sk-toggleable__content {max-height: 200px;max-width: 100%;overflow: auto;}#sk-container-id-4 input.sk-toggleable__control:checked~label.sk-toggleable__label-arrow:before {content: \"▾\";}#sk-container-id-4 div.sk-estimator input.sk-toggleable__control:checked~label.sk-toggleable__label {background-color: #d4ebff;}#sk-container-id-4 div.sk-label input.sk-toggleable__control:checked~label.sk-toggleable__label {background-color: #d4ebff;}#sk-container-id-4 input.sk-hidden--visually {border: 0;clip: rect(1px 1px 1px 1px);clip: rect(1px, 1px, 1px, 1px);height: 1px;margin: -1px;overflow: hidden;padding: 0;position: absolute;width: 1px;}#sk-container-id-4 div.sk-estimator {font-family: monospace;background-color: #f0f8ff;border: 1px dotted black;border-radius: 0.25em;box-sizing: border-box;margin-bottom: 0.5em;}#sk-container-id-4 div.sk-estimator:hover {background-color: #d4ebff;}#sk-container-id-4 div.sk-parallel-item::after {content: \"\";width: 100%;border-bottom: 1px solid gray;flex-grow: 1;}#sk-container-id-4 div.sk-label:hover label.sk-toggleable__label {background-color: #d4ebff;}#sk-container-id-4 div.sk-serial::before {content: \"\";position: absolute;border-left: 1px solid gray;box-sizing: border-box;top: 0;bottom: 0;left: 50%;z-index: 0;}#sk-container-id-4 div.sk-serial {display: flex;flex-direction: column;align-items: center;background-color: white;padding-right: 0.2em;padding-left: 0.2em;position: relative;}#sk-container-id-4 div.sk-item {position: relative;z-index: 1;}#sk-container-id-4 div.sk-parallel {display: flex;align-items: stretch;justify-content: center;background-color: white;position: relative;}#sk-container-id-4 div.sk-item::before, #sk-container-id-4 div.sk-parallel-item::before {content: \"\";position: absolute;border-left: 1px solid gray;box-sizing: border-box;top: 0;bottom: 0;left: 50%;z-index: -1;}#sk-container-id-4 div.sk-parallel-item {display: flex;flex-direction: column;z-index: 1;position: relative;background-color: white;}#sk-container-id-4 div.sk-parallel-item:first-child::after {align-self: flex-end;width: 50%;}#sk-container-id-4 div.sk-parallel-item:last-child::after {align-self: flex-start;width: 50%;}#sk-container-id-4 div.sk-parallel-item:only-child::after {width: 0;}#sk-container-id-4 div.sk-dashed-wrapped {border: 1px dashed gray;margin: 0 0.4em 0.5em 0.4em;box-sizing: border-box;padding-bottom: 0.4em;background-color: white;}#sk-container-id-4 div.sk-label label {font-family: monospace;font-weight: bold;display: inline-block;line-height: 1.2em;}#sk-container-id-4 div.sk-label-container {text-align: center;}#sk-container-id-4 div.sk-container {/* jupyter's `normalize.less` sets `[hidden] { display: none; }` but bootstrap.min.css set `[hidden] { display: none !important; }` so we also need the `!important` here to be able to override the default hidden behavior on the sphinx rendered scikit-learn.org. See: https://github.com/scikit-learn/scikit-learn/issues/21755 */display: inline-block !important;position: relative;}#sk-container-id-4 div.sk-text-repr-fallback {display: none;}</style><div id=\"sk-container-id-4\" class=\"sk-top-container\"><div class=\"sk-text-repr-fallback\"><pre>GridSearchCV(cv=10,\n             estimator=Pipeline(steps=[(&#x27;vectorizer&#x27;, TfidfVectorizer()),\n                                       (&#x27;normalizer&#x27;, Normalizer()),\n                                       (&#x27;clf&#x27;, KNeighborsClassifier())]),\n             param_grid={&#x27;clf__n_neighbors&#x27;: [5, 9],\n                         &#x27;normalizer__norm&#x27;: [&#x27;l1&#x27;, &#x27;l2&#x27;],\n                         &#x27;vectorizer__tokenizer&#x27;: [&lt;function heb_token at 0x000001826CA54AF0&gt;]},\n             scoring=&#x27;f1_macro&#x27;)</pre><b>In a Jupyter environment, please rerun this cell to show the HTML representation or trust the notebook. <br />On GitHub, the HTML representation is unable to render, please try loading this page with nbviewer.org.</b></div><div class=\"sk-container\" hidden><div class=\"sk-item sk-dashed-wrapped\"><div class=\"sk-label-container\"><div class=\"sk-label sk-toggleable\"><input class=\"sk-toggleable__control sk-hidden--visually\" id=\"sk-estimator-id-15\" type=\"checkbox\" ><label for=\"sk-estimator-id-15\" class=\"sk-toggleable__label sk-toggleable__label-arrow\">GridSearchCV</label><div class=\"sk-toggleable__content\"><pre>GridSearchCV(cv=10,\n             estimator=Pipeline(steps=[(&#x27;vectorizer&#x27;, TfidfVectorizer()),\n                                       (&#x27;normalizer&#x27;, Normalizer()),\n                                       (&#x27;clf&#x27;, KNeighborsClassifier())]),\n             param_grid={&#x27;clf__n_neighbors&#x27;: [5, 9],\n                         &#x27;normalizer__norm&#x27;: [&#x27;l1&#x27;, &#x27;l2&#x27;],\n                         &#x27;vectorizer__tokenizer&#x27;: [&lt;function heb_token at 0x000001826CA54AF0&gt;]},\n             scoring=&#x27;f1_macro&#x27;)</pre></div></div></div><div class=\"sk-parallel\"><div class=\"sk-parallel-item\"><div class=\"sk-item\"><div class=\"sk-label-container\"><div class=\"sk-label sk-toggleable\"><input class=\"sk-toggleable__control sk-hidden--visually\" id=\"sk-estimator-id-16\" type=\"checkbox\" ><label for=\"sk-estimator-id-16\" class=\"sk-toggleable__label sk-toggleable__label-arrow\">estimator: Pipeline</label><div class=\"sk-toggleable__content\"><pre>Pipeline(steps=[(&#x27;vectorizer&#x27;, TfidfVectorizer()), (&#x27;normalizer&#x27;, Normalizer()),\n                (&#x27;clf&#x27;, KNeighborsClassifier())])</pre></div></div></div><div class=\"sk-serial\"><div class=\"sk-item\"><div class=\"sk-serial\"><div class=\"sk-item\"><div class=\"sk-estimator sk-toggleable\"><input class=\"sk-toggleable__control sk-hidden--visually\" id=\"sk-estimator-id-17\" type=\"checkbox\" ><label for=\"sk-estimator-id-17\" class=\"sk-toggleable__label sk-toggleable__label-arrow\">TfidfVectorizer</label><div class=\"sk-toggleable__content\"><pre>TfidfVectorizer()</pre></div></div></div><div class=\"sk-item\"><div class=\"sk-estimator sk-toggleable\"><input class=\"sk-toggleable__control sk-hidden--visually\" id=\"sk-estimator-id-18\" type=\"checkbox\" ><label for=\"sk-estimator-id-18\" class=\"sk-toggleable__label sk-toggleable__label-arrow\">Normalizer</label><div class=\"sk-toggleable__content\"><pre>Normalizer()</pre></div></div></div><div class=\"sk-item\"><div class=\"sk-estimator sk-toggleable\"><input class=\"sk-toggleable__control sk-hidden--visually\" id=\"sk-estimator-id-19\" type=\"checkbox\" ><label for=\"sk-estimator-id-19\" class=\"sk-toggleable__label sk-toggleable__label-arrow\">KNeighborsClassifier</label><div class=\"sk-toggleable__content\"><pre>KNeighborsClassifier()</pre></div></div></div></div></div></div></div></div></div></div></div></div>"
     },
     "execution_count": 22,
     "metadata": {},
     "output_type": "execute_result"
    },
    {
     "name": "stdout",
     "output_type": "stream",
     "text": [
      "Best parameter (CV score=0.599):\n",
      "{'clf__n_neighbors': 5, 'normalizer__norm': 'l2', 'vectorizer__tokenizer': <function heb_token at 0x000001826CA54AF0>}\n"
     ]
    }
   ],
   "source": [
    " \n",
    "pipe=Pipeline([(\"vectorizer\",TfidfVectorizer()),\n",
    "               (\"normalizer\",preprocessing.Normalizer()),\n",
    "            (\"clf\",KNeighborsClassifier())])\n",
    "# need to check about vectorzer,normalizer and hyper param for ml  \n",
    "knn_grid={\"vectorizer__tokenizer\":[heb_token],\"normalizer__norm\":[\"l1\",\"l2\"],\n",
    "         \"clf__n_neighbors\":[5,9]}\n",
    "search_knn=GridSearchCV(pipe,knn_grid,cv=10,scoring=\"f1_macro\")\n",
    "search_knn.fit(X,y)\n",
    "print(\"Best parameter (CV score=%0.3f):\" % search_knn.best_score_)\n",
    "print(search_knn.best_params_)"
   ]
  },
  {
   "cell_type": "code",
   "execution_count": null,
   "metadata": {},
   "outputs": [],
   "source": [
    "# after we buils the all ml we predict on df_test and get the predict in numbers the using the lebal incoder we \n",
    "# trasform it \"m\", \"f\" \n",
    "# the best mls Perceptron Sgdclassifer and linearsvc "
   ]
  },
  {
   "cell_type": "code",
   "execution_count": 23,
   "metadata": {
    "ExecuteTime": {
     "end_time": "2023-09-03T14:54:33.476280500Z",
     "start_time": "2023-09-03T14:54:33.459762100Z"
    }
   },
   "outputs": [],
   "source": [
    "test = heb_token(df_train['story'][0])\n"
   ]
  },
  {
   "cell_type": "code",
   "execution_count": 32,
   "metadata": {
    "ExecuteTime": {
     "end_time": "2023-09-03T15:43:33.107640800Z",
     "start_time": "2023-09-03T15:15:49.341517600Z"
    }
   },
   "outputs": [
    {
     "data": {
      "text/plain": "GridSearchCV(cv=10,\n             estimator=Pipeline(steps=[('vectorizer', CountVectorizer()),\n                                       ('normalizer', Normalizer()),\n                                       ('classifier',\n                                        DecisionTreeClassifier())]),\n             param_grid={'classifier__criterion': ['gini', 'entropy'],\n                         'classifier__max_depth': [None, 10, 20, 30],\n                         'classifier__min_samples_leaf': [1, 2, 4],\n                         'classifier__min_samples_split': [2, 5, 10],\n                         'normalizer__norm': ['l1', 'l2'],\n                         'vectorizer__tokenizer': [<function heb_token at 0x000001826CA54AF0>]},\n             scoring='f1_macro')",
      "text/html": "<style>#sk-container-id-7 {color: black;background-color: white;}#sk-container-id-7 pre{padding: 0;}#sk-container-id-7 div.sk-toggleable {background-color: white;}#sk-container-id-7 label.sk-toggleable__label {cursor: pointer;display: block;width: 100%;margin-bottom: 0;padding: 0.3em;box-sizing: border-box;text-align: center;}#sk-container-id-7 label.sk-toggleable__label-arrow:before {content: \"▸\";float: left;margin-right: 0.25em;color: #696969;}#sk-container-id-7 label.sk-toggleable__label-arrow:hover:before {color: black;}#sk-container-id-7 div.sk-estimator:hover label.sk-toggleable__label-arrow:before {color: black;}#sk-container-id-7 div.sk-toggleable__content {max-height: 0;max-width: 0;overflow: hidden;text-align: left;background-color: #f0f8ff;}#sk-container-id-7 div.sk-toggleable__content pre {margin: 0.2em;color: black;border-radius: 0.25em;background-color: #f0f8ff;}#sk-container-id-7 input.sk-toggleable__control:checked~div.sk-toggleable__content {max-height: 200px;max-width: 100%;overflow: auto;}#sk-container-id-7 input.sk-toggleable__control:checked~label.sk-toggleable__label-arrow:before {content: \"▾\";}#sk-container-id-7 div.sk-estimator input.sk-toggleable__control:checked~label.sk-toggleable__label {background-color: #d4ebff;}#sk-container-id-7 div.sk-label input.sk-toggleable__control:checked~label.sk-toggleable__label {background-color: #d4ebff;}#sk-container-id-7 input.sk-hidden--visually {border: 0;clip: rect(1px 1px 1px 1px);clip: rect(1px, 1px, 1px, 1px);height: 1px;margin: -1px;overflow: hidden;padding: 0;position: absolute;width: 1px;}#sk-container-id-7 div.sk-estimator {font-family: monospace;background-color: #f0f8ff;border: 1px dotted black;border-radius: 0.25em;box-sizing: border-box;margin-bottom: 0.5em;}#sk-container-id-7 div.sk-estimator:hover {background-color: #d4ebff;}#sk-container-id-7 div.sk-parallel-item::after {content: \"\";width: 100%;border-bottom: 1px solid gray;flex-grow: 1;}#sk-container-id-7 div.sk-label:hover label.sk-toggleable__label {background-color: #d4ebff;}#sk-container-id-7 div.sk-serial::before {content: \"\";position: absolute;border-left: 1px solid gray;box-sizing: border-box;top: 0;bottom: 0;left: 50%;z-index: 0;}#sk-container-id-7 div.sk-serial {display: flex;flex-direction: column;align-items: center;background-color: white;padding-right: 0.2em;padding-left: 0.2em;position: relative;}#sk-container-id-7 div.sk-item {position: relative;z-index: 1;}#sk-container-id-7 div.sk-parallel {display: flex;align-items: stretch;justify-content: center;background-color: white;position: relative;}#sk-container-id-7 div.sk-item::before, #sk-container-id-7 div.sk-parallel-item::before {content: \"\";position: absolute;border-left: 1px solid gray;box-sizing: border-box;top: 0;bottom: 0;left: 50%;z-index: -1;}#sk-container-id-7 div.sk-parallel-item {display: flex;flex-direction: column;z-index: 1;position: relative;background-color: white;}#sk-container-id-7 div.sk-parallel-item:first-child::after {align-self: flex-end;width: 50%;}#sk-container-id-7 div.sk-parallel-item:last-child::after {align-self: flex-start;width: 50%;}#sk-container-id-7 div.sk-parallel-item:only-child::after {width: 0;}#sk-container-id-7 div.sk-dashed-wrapped {border: 1px dashed gray;margin: 0 0.4em 0.5em 0.4em;box-sizing: border-box;padding-bottom: 0.4em;background-color: white;}#sk-container-id-7 div.sk-label label {font-family: monospace;font-weight: bold;display: inline-block;line-height: 1.2em;}#sk-container-id-7 div.sk-label-container {text-align: center;}#sk-container-id-7 div.sk-container {/* jupyter's `normalize.less` sets `[hidden] { display: none; }` but bootstrap.min.css set `[hidden] { display: none !important; }` so we also need the `!important` here to be able to override the default hidden behavior on the sphinx rendered scikit-learn.org. See: https://github.com/scikit-learn/scikit-learn/issues/21755 */display: inline-block !important;position: relative;}#sk-container-id-7 div.sk-text-repr-fallback {display: none;}</style><div id=\"sk-container-id-7\" class=\"sk-top-container\"><div class=\"sk-text-repr-fallback\"><pre>GridSearchCV(cv=10,\n             estimator=Pipeline(steps=[(&#x27;vectorizer&#x27;, CountVectorizer()),\n                                       (&#x27;normalizer&#x27;, Normalizer()),\n                                       (&#x27;classifier&#x27;,\n                                        DecisionTreeClassifier())]),\n             param_grid={&#x27;classifier__criterion&#x27;: [&#x27;gini&#x27;, &#x27;entropy&#x27;],\n                         &#x27;classifier__max_depth&#x27;: [None, 10, 20, 30],\n                         &#x27;classifier__min_samples_leaf&#x27;: [1, 2, 4],\n                         &#x27;classifier__min_samples_split&#x27;: [2, 5, 10],\n                         &#x27;normalizer__norm&#x27;: [&#x27;l1&#x27;, &#x27;l2&#x27;],\n                         &#x27;vectorizer__tokenizer&#x27;: [&lt;function heb_token at 0x000001826CA54AF0&gt;]},\n             scoring=&#x27;f1_macro&#x27;)</pre><b>In a Jupyter environment, please rerun this cell to show the HTML representation or trust the notebook. <br />On GitHub, the HTML representation is unable to render, please try loading this page with nbviewer.org.</b></div><div class=\"sk-container\" hidden><div class=\"sk-item sk-dashed-wrapped\"><div class=\"sk-label-container\"><div class=\"sk-label sk-toggleable\"><input class=\"sk-toggleable__control sk-hidden--visually\" id=\"sk-estimator-id-30\" type=\"checkbox\" ><label for=\"sk-estimator-id-30\" class=\"sk-toggleable__label sk-toggleable__label-arrow\">GridSearchCV</label><div class=\"sk-toggleable__content\"><pre>GridSearchCV(cv=10,\n             estimator=Pipeline(steps=[(&#x27;vectorizer&#x27;, CountVectorizer()),\n                                       (&#x27;normalizer&#x27;, Normalizer()),\n                                       (&#x27;classifier&#x27;,\n                                        DecisionTreeClassifier())]),\n             param_grid={&#x27;classifier__criterion&#x27;: [&#x27;gini&#x27;, &#x27;entropy&#x27;],\n                         &#x27;classifier__max_depth&#x27;: [None, 10, 20, 30],\n                         &#x27;classifier__min_samples_leaf&#x27;: [1, 2, 4],\n                         &#x27;classifier__min_samples_split&#x27;: [2, 5, 10],\n                         &#x27;normalizer__norm&#x27;: [&#x27;l1&#x27;, &#x27;l2&#x27;],\n                         &#x27;vectorizer__tokenizer&#x27;: [&lt;function heb_token at 0x000001826CA54AF0&gt;]},\n             scoring=&#x27;f1_macro&#x27;)</pre></div></div></div><div class=\"sk-parallel\"><div class=\"sk-parallel-item\"><div class=\"sk-item\"><div class=\"sk-label-container\"><div class=\"sk-label sk-toggleable\"><input class=\"sk-toggleable__control sk-hidden--visually\" id=\"sk-estimator-id-31\" type=\"checkbox\" ><label for=\"sk-estimator-id-31\" class=\"sk-toggleable__label sk-toggleable__label-arrow\">estimator: Pipeline</label><div class=\"sk-toggleable__content\"><pre>Pipeline(steps=[(&#x27;vectorizer&#x27;, CountVectorizer()), (&#x27;normalizer&#x27;, Normalizer()),\n                (&#x27;classifier&#x27;, DecisionTreeClassifier())])</pre></div></div></div><div class=\"sk-serial\"><div class=\"sk-item\"><div class=\"sk-serial\"><div class=\"sk-item\"><div class=\"sk-estimator sk-toggleable\"><input class=\"sk-toggleable__control sk-hidden--visually\" id=\"sk-estimator-id-32\" type=\"checkbox\" ><label for=\"sk-estimator-id-32\" class=\"sk-toggleable__label sk-toggleable__label-arrow\">CountVectorizer</label><div class=\"sk-toggleable__content\"><pre>CountVectorizer()</pre></div></div></div><div class=\"sk-item\"><div class=\"sk-estimator sk-toggleable\"><input class=\"sk-toggleable__control sk-hidden--visually\" id=\"sk-estimator-id-33\" type=\"checkbox\" ><label for=\"sk-estimator-id-33\" class=\"sk-toggleable__label sk-toggleable__label-arrow\">Normalizer</label><div class=\"sk-toggleable__content\"><pre>Normalizer()</pre></div></div></div><div class=\"sk-item\"><div class=\"sk-estimator sk-toggleable\"><input class=\"sk-toggleable__control sk-hidden--visually\" id=\"sk-estimator-id-34\" type=\"checkbox\" ><label for=\"sk-estimator-id-34\" class=\"sk-toggleable__label sk-toggleable__label-arrow\">DecisionTreeClassifier</label><div class=\"sk-toggleable__content\"><pre>DecisionTreeClassifier()</pre></div></div></div></div></div></div></div></div></div></div></div></div>"
     },
     "execution_count": 32,
     "metadata": {},
     "output_type": "execute_result"
    },
    {
     "name": "stdout",
     "output_type": "stream",
     "text": [
      "Best parameter (CV score=0.611):\n",
      "{'classifier__criterion': 'gini', 'classifier__max_depth': 20, 'classifier__min_samples_leaf': 2, 'classifier__min_samples_split': 10, 'normalizer__norm': 'l1', 'vectorizer__tokenizer': <function heb_token at 0x000001826CA54AF0>}\n"
     ]
    }
   ],
   "source": [
    "## Desicion tree:\n",
    "dct_pipe=Pipeline([(\"vectorizer\",CountVectorizer()),\n",
    "             (\"normalizer\",preprocessing.Normalizer()),\n",
    "            (\"classifier\",DecisionTreeClassifier())])\n",
    "\n",
    "dct_grid={\"vectorizer__tokenizer\":[heb_token],\"normalizer__norm\":[\"l1\",\"l2\"],       'classifier__criterion': ['gini', 'entropy'],\n",
    "    'classifier__max_depth': [None, 10, 20, 30],\n",
    "    'classifier__min_samples_leaf': [1, 2, 4],\n",
    "    'classifier__min_samples_split': [2, 5, 10],\n",
    "          }\n",
    "\n",
    "search_dct=GridSearchCV(dct_pipe,dct_grid,cv=10,scoring=\"f1_macro\")\n",
    "search_dct.fit(X,y)\n",
    "print(\"Best parameter (CV score=%0.3f):\" % search_dct.best_score_)\n",
    "print(search_dct.best_params_)"
   ]
  },
  {
   "cell_type": "code",
   "execution_count": 35,
   "metadata": {
    "ExecuteTime": {
     "end_time": "2023-09-03T16:29:19.798828900Z",
     "start_time": "2023-09-03T16:09:42.180382200Z"
    }
   },
   "outputs": [
    {
     "data": {
      "text/plain": "GridSearchCV(cv=10,\n             estimator=Pipeline(steps=[('vectorizer', TfidfVectorizer()),\n                                       ('normalizer', Normalizer()),\n                                       ('classifier',\n                                        DecisionTreeClassifier())]),\n             param_grid={'classifier__criterion': ['gini', 'entropy'],\n                         'classifier__max_depth': [10, 20, 30],\n                         'classifier__min_samples_leaf': [1, 2, 4],\n                         'classifier__min_samples_split': [20, 30, 40],\n                         'normalizer__norm': ['l1', 'l2'],\n                         'vectorizer__tokenizer': [<function heb_token at 0x000001826CA54AF0>]},\n             scoring='f1_macro')",
      "text/html": "<style>#sk-container-id-10 {color: black;background-color: white;}#sk-container-id-10 pre{padding: 0;}#sk-container-id-10 div.sk-toggleable {background-color: white;}#sk-container-id-10 label.sk-toggleable__label {cursor: pointer;display: block;width: 100%;margin-bottom: 0;padding: 0.3em;box-sizing: border-box;text-align: center;}#sk-container-id-10 label.sk-toggleable__label-arrow:before {content: \"▸\";float: left;margin-right: 0.25em;color: #696969;}#sk-container-id-10 label.sk-toggleable__label-arrow:hover:before {color: black;}#sk-container-id-10 div.sk-estimator:hover label.sk-toggleable__label-arrow:before {color: black;}#sk-container-id-10 div.sk-toggleable__content {max-height: 0;max-width: 0;overflow: hidden;text-align: left;background-color: #f0f8ff;}#sk-container-id-10 div.sk-toggleable__content pre {margin: 0.2em;color: black;border-radius: 0.25em;background-color: #f0f8ff;}#sk-container-id-10 input.sk-toggleable__control:checked~div.sk-toggleable__content {max-height: 200px;max-width: 100%;overflow: auto;}#sk-container-id-10 input.sk-toggleable__control:checked~label.sk-toggleable__label-arrow:before {content: \"▾\";}#sk-container-id-10 div.sk-estimator input.sk-toggleable__control:checked~label.sk-toggleable__label {background-color: #d4ebff;}#sk-container-id-10 div.sk-label input.sk-toggleable__control:checked~label.sk-toggleable__label {background-color: #d4ebff;}#sk-container-id-10 input.sk-hidden--visually {border: 0;clip: rect(1px 1px 1px 1px);clip: rect(1px, 1px, 1px, 1px);height: 1px;margin: -1px;overflow: hidden;padding: 0;position: absolute;width: 1px;}#sk-container-id-10 div.sk-estimator {font-family: monospace;background-color: #f0f8ff;border: 1px dotted black;border-radius: 0.25em;box-sizing: border-box;margin-bottom: 0.5em;}#sk-container-id-10 div.sk-estimator:hover {background-color: #d4ebff;}#sk-container-id-10 div.sk-parallel-item::after {content: \"\";width: 100%;border-bottom: 1px solid gray;flex-grow: 1;}#sk-container-id-10 div.sk-label:hover label.sk-toggleable__label {background-color: #d4ebff;}#sk-container-id-10 div.sk-serial::before {content: \"\";position: absolute;border-left: 1px solid gray;box-sizing: border-box;top: 0;bottom: 0;left: 50%;z-index: 0;}#sk-container-id-10 div.sk-serial {display: flex;flex-direction: column;align-items: center;background-color: white;padding-right: 0.2em;padding-left: 0.2em;position: relative;}#sk-container-id-10 div.sk-item {position: relative;z-index: 1;}#sk-container-id-10 div.sk-parallel {display: flex;align-items: stretch;justify-content: center;background-color: white;position: relative;}#sk-container-id-10 div.sk-item::before, #sk-container-id-10 div.sk-parallel-item::before {content: \"\";position: absolute;border-left: 1px solid gray;box-sizing: border-box;top: 0;bottom: 0;left: 50%;z-index: -1;}#sk-container-id-10 div.sk-parallel-item {display: flex;flex-direction: column;z-index: 1;position: relative;background-color: white;}#sk-container-id-10 div.sk-parallel-item:first-child::after {align-self: flex-end;width: 50%;}#sk-container-id-10 div.sk-parallel-item:last-child::after {align-self: flex-start;width: 50%;}#sk-container-id-10 div.sk-parallel-item:only-child::after {width: 0;}#sk-container-id-10 div.sk-dashed-wrapped {border: 1px dashed gray;margin: 0 0.4em 0.5em 0.4em;box-sizing: border-box;padding-bottom: 0.4em;background-color: white;}#sk-container-id-10 div.sk-label label {font-family: monospace;font-weight: bold;display: inline-block;line-height: 1.2em;}#sk-container-id-10 div.sk-label-container {text-align: center;}#sk-container-id-10 div.sk-container {/* jupyter's `normalize.less` sets `[hidden] { display: none; }` but bootstrap.min.css set `[hidden] { display: none !important; }` so we also need the `!important` here to be able to override the default hidden behavior on the sphinx rendered scikit-learn.org. See: https://github.com/scikit-learn/scikit-learn/issues/21755 */display: inline-block !important;position: relative;}#sk-container-id-10 div.sk-text-repr-fallback {display: none;}</style><div id=\"sk-container-id-10\" class=\"sk-top-container\"><div class=\"sk-text-repr-fallback\"><pre>GridSearchCV(cv=10,\n             estimator=Pipeline(steps=[(&#x27;vectorizer&#x27;, TfidfVectorizer()),\n                                       (&#x27;normalizer&#x27;, Normalizer()),\n                                       (&#x27;classifier&#x27;,\n                                        DecisionTreeClassifier())]),\n             param_grid={&#x27;classifier__criterion&#x27;: [&#x27;gini&#x27;, &#x27;entropy&#x27;],\n                         &#x27;classifier__max_depth&#x27;: [10, 20, 30],\n                         &#x27;classifier__min_samples_leaf&#x27;: [1, 2, 4],\n                         &#x27;classifier__min_samples_split&#x27;: [20, 30, 40],\n                         &#x27;normalizer__norm&#x27;: [&#x27;l1&#x27;, &#x27;l2&#x27;],\n                         &#x27;vectorizer__tokenizer&#x27;: [&lt;function heb_token at 0x000001826CA54AF0&gt;]},\n             scoring=&#x27;f1_macro&#x27;)</pre><b>In a Jupyter environment, please rerun this cell to show the HTML representation or trust the notebook. <br />On GitHub, the HTML representation is unable to render, please try loading this page with nbviewer.org.</b></div><div class=\"sk-container\" hidden><div class=\"sk-item sk-dashed-wrapped\"><div class=\"sk-label-container\"><div class=\"sk-label sk-toggleable\"><input class=\"sk-toggleable__control sk-hidden--visually\" id=\"sk-estimator-id-45\" type=\"checkbox\" ><label for=\"sk-estimator-id-45\" class=\"sk-toggleable__label sk-toggleable__label-arrow\">GridSearchCV</label><div class=\"sk-toggleable__content\"><pre>GridSearchCV(cv=10,\n             estimator=Pipeline(steps=[(&#x27;vectorizer&#x27;, TfidfVectorizer()),\n                                       (&#x27;normalizer&#x27;, Normalizer()),\n                                       (&#x27;classifier&#x27;,\n                                        DecisionTreeClassifier())]),\n             param_grid={&#x27;classifier__criterion&#x27;: [&#x27;gini&#x27;, &#x27;entropy&#x27;],\n                         &#x27;classifier__max_depth&#x27;: [10, 20, 30],\n                         &#x27;classifier__min_samples_leaf&#x27;: [1, 2, 4],\n                         &#x27;classifier__min_samples_split&#x27;: [20, 30, 40],\n                         &#x27;normalizer__norm&#x27;: [&#x27;l1&#x27;, &#x27;l2&#x27;],\n                         &#x27;vectorizer__tokenizer&#x27;: [&lt;function heb_token at 0x000001826CA54AF0&gt;]},\n             scoring=&#x27;f1_macro&#x27;)</pre></div></div></div><div class=\"sk-parallel\"><div class=\"sk-parallel-item\"><div class=\"sk-item\"><div class=\"sk-label-container\"><div class=\"sk-label sk-toggleable\"><input class=\"sk-toggleable__control sk-hidden--visually\" id=\"sk-estimator-id-46\" type=\"checkbox\" ><label for=\"sk-estimator-id-46\" class=\"sk-toggleable__label sk-toggleable__label-arrow\">estimator: Pipeline</label><div class=\"sk-toggleable__content\"><pre>Pipeline(steps=[(&#x27;vectorizer&#x27;, TfidfVectorizer()), (&#x27;normalizer&#x27;, Normalizer()),\n                (&#x27;classifier&#x27;, DecisionTreeClassifier())])</pre></div></div></div><div class=\"sk-serial\"><div class=\"sk-item\"><div class=\"sk-serial\"><div class=\"sk-item\"><div class=\"sk-estimator sk-toggleable\"><input class=\"sk-toggleable__control sk-hidden--visually\" id=\"sk-estimator-id-47\" type=\"checkbox\" ><label for=\"sk-estimator-id-47\" class=\"sk-toggleable__label sk-toggleable__label-arrow\">TfidfVectorizer</label><div class=\"sk-toggleable__content\"><pre>TfidfVectorizer()</pre></div></div></div><div class=\"sk-item\"><div class=\"sk-estimator sk-toggleable\"><input class=\"sk-toggleable__control sk-hidden--visually\" id=\"sk-estimator-id-48\" type=\"checkbox\" ><label for=\"sk-estimator-id-48\" class=\"sk-toggleable__label sk-toggleable__label-arrow\">Normalizer</label><div class=\"sk-toggleable__content\"><pre>Normalizer()</pre></div></div></div><div class=\"sk-item\"><div class=\"sk-estimator sk-toggleable\"><input class=\"sk-toggleable__control sk-hidden--visually\" id=\"sk-estimator-id-49\" type=\"checkbox\" ><label for=\"sk-estimator-id-49\" class=\"sk-toggleable__label sk-toggleable__label-arrow\">DecisionTreeClassifier</label><div class=\"sk-toggleable__content\"><pre>DecisionTreeClassifier()</pre></div></div></div></div></div></div></div></div></div></div></div></div>"
     },
     "execution_count": 35,
     "metadata": {},
     "output_type": "execute_result"
    },
    {
     "name": "stdout",
     "output_type": "stream",
     "text": [
      "Best parameter (CV score=0.614):\n",
      "{'classifier__criterion': 'gini', 'classifier__max_depth': 30, 'classifier__min_samples_leaf': 1, 'classifier__min_samples_split': 30, 'normalizer__norm': 'l2', 'vectorizer__tokenizer': <function heb_token at 0x000001826CA54AF0>}\n"
     ]
    }
   ],
   "source": [
    "## Desicion tree:\n",
    "dct_pipe=Pipeline([(\"vectorizer\",TfidfVectorizer()),\n",
    "             (\"normalizer\",preprocessing.Normalizer()),\n",
    "            (\"classifier\",DecisionTreeClassifier())])\n",
    "\n",
    "dct_grid={\"vectorizer__tokenizer\":[heb_token],\"normalizer__norm\":[\"l1\",\"l2\"],       'classifier__criterion': ['gini', 'entropy'],\n",
    "    'classifier__max_depth': [10, 20, 30],\n",
    "    'classifier__min_samples_leaf': [1, 2, 4],\n",
    "    'classifier__min_samples_split': [20,30,40],\n",
    "          }\n",
    "\n",
    "search_dct=GridSearchCV(dct_pipe,dct_grid,cv=10,scoring=\"f1_macro\")\n",
    "search_dct.fit(X,y)\n",
    "print(\"Best parameter (CV score=%0.3f):\" % search_dct.best_score_)\n",
    "print(search_dct.best_params_)"
   ]
  },
  {
   "cell_type": "code",
   "execution_count": 38,
   "metadata": {
    "ExecuteTime": {
     "end_time": "2023-09-03T19:09:50.185952400Z",
     "start_time": "2023-09-03T19:09:50.159396200Z"
    }
   },
   "outputs": [
    {
     "name": "stdout",
     "output_type": "stream",
     "text": [
      "Best parameter (CV score=0.663):\n",
      "{'classifier__max_iter': 5000, 'classifier__penalty': None, 'classifier__tol': 1e-05, 'normalizer__norm': 'l2', 'vectorizer__tokenizer': <function heb_token at 0x000001826CA54AF0>}\n"
     ]
    }
   ],
   "source": [
    "##Perceptron:\n",
    "percp_pipe=Pipeline([(\"vectorizer\",CountVectorizer()),\n",
    "             (\"normalizer\",preprocessing.Normalizer()),\n",
    "            (\"classifier\",Perceptron())])\n",
    "\n",
    "percp_grid={\"vectorizer__tokenizer\":[heb_token],\"normalizer__norm\":[\"l1\",\"l2\"],\n",
    "            'classifier__max_iter': [5000, 10000, 20000],\n",
    "            'classifier__tol': [1e-3, 1e-4, 1e-5],\n",
    "            'classifier__penalty': [None, 'l1', 'l2', 'elasicnet'],\n",
    "          }\n",
    "\n",
    "search_percp=GridSearchCV(percp_pipe,percp_grid,cv=10,scoring=\"f1_macro\")\n",
    "search_percp.fit(X,y)\n",
    "print(\"Best parameter (CV score=%0.3f):\" % search_percp.best_score_)\n",
    "print(search_percp.best_params_)\n"
   ]
  },
  {
   "cell_type": "code",
   "execution_count": 39,
   "outputs": [
    {
     "data": {
      "text/plain": "GridSearchCV(cv=10,\n             estimator=Pipeline(steps=[('vectorizer', TfidfVectorizer()),\n                                       ('normalizer', Normalizer()),\n                                       ('classifier', Perceptron())]),\n             param_grid={'classifier__max_iter': [5000, 10000, 20000],\n                         'classifier__penalty': [None, 'l1', 'l2', 'elasicnet'],\n                         'classifier__tol': [0.001, 0.0001, 1e-05],\n                         'normalizer__norm': ['l1', 'l2'],\n                         'vectorizer__tokenizer': [<function heb_token at 0x000001826CA54AF0>]},\n             scoring='f1_macro')",
      "text/html": "<style>#sk-container-id-12 {color: black;background-color: white;}#sk-container-id-12 pre{padding: 0;}#sk-container-id-12 div.sk-toggleable {background-color: white;}#sk-container-id-12 label.sk-toggleable__label {cursor: pointer;display: block;width: 100%;margin-bottom: 0;padding: 0.3em;box-sizing: border-box;text-align: center;}#sk-container-id-12 label.sk-toggleable__label-arrow:before {content: \"▸\";float: left;margin-right: 0.25em;color: #696969;}#sk-container-id-12 label.sk-toggleable__label-arrow:hover:before {color: black;}#sk-container-id-12 div.sk-estimator:hover label.sk-toggleable__label-arrow:before {color: black;}#sk-container-id-12 div.sk-toggleable__content {max-height: 0;max-width: 0;overflow: hidden;text-align: left;background-color: #f0f8ff;}#sk-container-id-12 div.sk-toggleable__content pre {margin: 0.2em;color: black;border-radius: 0.25em;background-color: #f0f8ff;}#sk-container-id-12 input.sk-toggleable__control:checked~div.sk-toggleable__content {max-height: 200px;max-width: 100%;overflow: auto;}#sk-container-id-12 input.sk-toggleable__control:checked~label.sk-toggleable__label-arrow:before {content: \"▾\";}#sk-container-id-12 div.sk-estimator input.sk-toggleable__control:checked~label.sk-toggleable__label {background-color: #d4ebff;}#sk-container-id-12 div.sk-label input.sk-toggleable__control:checked~label.sk-toggleable__label {background-color: #d4ebff;}#sk-container-id-12 input.sk-hidden--visually {border: 0;clip: rect(1px 1px 1px 1px);clip: rect(1px, 1px, 1px, 1px);height: 1px;margin: -1px;overflow: hidden;padding: 0;position: absolute;width: 1px;}#sk-container-id-12 div.sk-estimator {font-family: monospace;background-color: #f0f8ff;border: 1px dotted black;border-radius: 0.25em;box-sizing: border-box;margin-bottom: 0.5em;}#sk-container-id-12 div.sk-estimator:hover {background-color: #d4ebff;}#sk-container-id-12 div.sk-parallel-item::after {content: \"\";width: 100%;border-bottom: 1px solid gray;flex-grow: 1;}#sk-container-id-12 div.sk-label:hover label.sk-toggleable__label {background-color: #d4ebff;}#sk-container-id-12 div.sk-serial::before {content: \"\";position: absolute;border-left: 1px solid gray;box-sizing: border-box;top: 0;bottom: 0;left: 50%;z-index: 0;}#sk-container-id-12 div.sk-serial {display: flex;flex-direction: column;align-items: center;background-color: white;padding-right: 0.2em;padding-left: 0.2em;position: relative;}#sk-container-id-12 div.sk-item {position: relative;z-index: 1;}#sk-container-id-12 div.sk-parallel {display: flex;align-items: stretch;justify-content: center;background-color: white;position: relative;}#sk-container-id-12 div.sk-item::before, #sk-container-id-12 div.sk-parallel-item::before {content: \"\";position: absolute;border-left: 1px solid gray;box-sizing: border-box;top: 0;bottom: 0;left: 50%;z-index: -1;}#sk-container-id-12 div.sk-parallel-item {display: flex;flex-direction: column;z-index: 1;position: relative;background-color: white;}#sk-container-id-12 div.sk-parallel-item:first-child::after {align-self: flex-end;width: 50%;}#sk-container-id-12 div.sk-parallel-item:last-child::after {align-self: flex-start;width: 50%;}#sk-container-id-12 div.sk-parallel-item:only-child::after {width: 0;}#sk-container-id-12 div.sk-dashed-wrapped {border: 1px dashed gray;margin: 0 0.4em 0.5em 0.4em;box-sizing: border-box;padding-bottom: 0.4em;background-color: white;}#sk-container-id-12 div.sk-label label {font-family: monospace;font-weight: bold;display: inline-block;line-height: 1.2em;}#sk-container-id-12 div.sk-label-container {text-align: center;}#sk-container-id-12 div.sk-container {/* jupyter's `normalize.less` sets `[hidden] { display: none; }` but bootstrap.min.css set `[hidden] { display: none !important; }` so we also need the `!important` here to be able to override the default hidden behavior on the sphinx rendered scikit-learn.org. See: https://github.com/scikit-learn/scikit-learn/issues/21755 */display: inline-block !important;position: relative;}#sk-container-id-12 div.sk-text-repr-fallback {display: none;}</style><div id=\"sk-container-id-12\" class=\"sk-top-container\"><div class=\"sk-text-repr-fallback\"><pre>GridSearchCV(cv=10,\n             estimator=Pipeline(steps=[(&#x27;vectorizer&#x27;, TfidfVectorizer()),\n                                       (&#x27;normalizer&#x27;, Normalizer()),\n                                       (&#x27;classifier&#x27;, Perceptron())]),\n             param_grid={&#x27;classifier__max_iter&#x27;: [5000, 10000, 20000],\n                         &#x27;classifier__penalty&#x27;: [None, &#x27;l1&#x27;, &#x27;l2&#x27;, &#x27;elasicnet&#x27;],\n                         &#x27;classifier__tol&#x27;: [0.001, 0.0001, 1e-05],\n                         &#x27;normalizer__norm&#x27;: [&#x27;l1&#x27;, &#x27;l2&#x27;],\n                         &#x27;vectorizer__tokenizer&#x27;: [&lt;function heb_token at 0x000001826CA54AF0&gt;]},\n             scoring=&#x27;f1_macro&#x27;)</pre><b>In a Jupyter environment, please rerun this cell to show the HTML representation or trust the notebook. <br />On GitHub, the HTML representation is unable to render, please try loading this page with nbviewer.org.</b></div><div class=\"sk-container\" hidden><div class=\"sk-item sk-dashed-wrapped\"><div class=\"sk-label-container\"><div class=\"sk-label sk-toggleable\"><input class=\"sk-toggleable__control sk-hidden--visually\" id=\"sk-estimator-id-55\" type=\"checkbox\" ><label for=\"sk-estimator-id-55\" class=\"sk-toggleable__label sk-toggleable__label-arrow\">GridSearchCV</label><div class=\"sk-toggleable__content\"><pre>GridSearchCV(cv=10,\n             estimator=Pipeline(steps=[(&#x27;vectorizer&#x27;, TfidfVectorizer()),\n                                       (&#x27;normalizer&#x27;, Normalizer()),\n                                       (&#x27;classifier&#x27;, Perceptron())]),\n             param_grid={&#x27;classifier__max_iter&#x27;: [5000, 10000, 20000],\n                         &#x27;classifier__penalty&#x27;: [None, &#x27;l1&#x27;, &#x27;l2&#x27;, &#x27;elasicnet&#x27;],\n                         &#x27;classifier__tol&#x27;: [0.001, 0.0001, 1e-05],\n                         &#x27;normalizer__norm&#x27;: [&#x27;l1&#x27;, &#x27;l2&#x27;],\n                         &#x27;vectorizer__tokenizer&#x27;: [&lt;function heb_token at 0x000001826CA54AF0&gt;]},\n             scoring=&#x27;f1_macro&#x27;)</pre></div></div></div><div class=\"sk-parallel\"><div class=\"sk-parallel-item\"><div class=\"sk-item\"><div class=\"sk-label-container\"><div class=\"sk-label sk-toggleable\"><input class=\"sk-toggleable__control sk-hidden--visually\" id=\"sk-estimator-id-56\" type=\"checkbox\" ><label for=\"sk-estimator-id-56\" class=\"sk-toggleable__label sk-toggleable__label-arrow\">estimator: Pipeline</label><div class=\"sk-toggleable__content\"><pre>Pipeline(steps=[(&#x27;vectorizer&#x27;, TfidfVectorizer()), (&#x27;normalizer&#x27;, Normalizer()),\n                (&#x27;classifier&#x27;, Perceptron())])</pre></div></div></div><div class=\"sk-serial\"><div class=\"sk-item\"><div class=\"sk-serial\"><div class=\"sk-item\"><div class=\"sk-estimator sk-toggleable\"><input class=\"sk-toggleable__control sk-hidden--visually\" id=\"sk-estimator-id-57\" type=\"checkbox\" ><label for=\"sk-estimator-id-57\" class=\"sk-toggleable__label sk-toggleable__label-arrow\">TfidfVectorizer</label><div class=\"sk-toggleable__content\"><pre>TfidfVectorizer()</pre></div></div></div><div class=\"sk-item\"><div class=\"sk-estimator sk-toggleable\"><input class=\"sk-toggleable__control sk-hidden--visually\" id=\"sk-estimator-id-58\" type=\"checkbox\" ><label for=\"sk-estimator-id-58\" class=\"sk-toggleable__label sk-toggleable__label-arrow\">Normalizer</label><div class=\"sk-toggleable__content\"><pre>Normalizer()</pre></div></div></div><div class=\"sk-item\"><div class=\"sk-estimator sk-toggleable\"><input class=\"sk-toggleable__control sk-hidden--visually\" id=\"sk-estimator-id-59\" type=\"checkbox\" ><label for=\"sk-estimator-id-59\" class=\"sk-toggleable__label sk-toggleable__label-arrow\">Perceptron</label><div class=\"sk-toggleable__content\"><pre>Perceptron()</pre></div></div></div></div></div></div></div></div></div></div></div></div>"
     },
     "execution_count": 39,
     "metadata": {},
     "output_type": "execute_result"
    },
    {
     "name": "stdout",
     "output_type": "stream",
     "text": [
      "Best parameter (CV score=0.665):\n",
      "{'classifier__max_iter': 5000, 'classifier__penalty': 'l1', 'classifier__tol': 0.0001, 'normalizer__norm': 'l2', 'vectorizer__tokenizer': <function heb_token at 0x000001826CA54AF0>}\n"
     ]
    }
   ],
   "source": [
    "percp_pipe=Pipeline([(\"vectorizer\",TfidfVectorizer()),\n",
    "             (\"normalizer\",preprocessing.Normalizer()),\n",
    "            (\"classifier\",Perceptron())])\n",
    "\n",
    "percp_grid={\"vectorizer__tokenizer\":[heb_token],\"normalizer__norm\":[\"l1\",\"l2\"],\n",
    "            'classifier__max_iter': [5000, 10000, 20000],\n",
    "            'classifier__tol': [1e-3, 1e-4, 1e-5],\n",
    "            'classifier__penalty': [None, 'l1', 'l2', 'elasicnet'],\n",
    "          }\n",
    "\n",
    "search_percp=GridSearchCV(percp_pipe,percp_grid,cv=10,scoring=\"f1_macro\")\n",
    "search_percp.fit(X,y)\n",
    "print(\"Best parameter (CV score=%0.3f):\" % search_percp.best_score_)\n",
    "print(search_percp.best_params_)"
   ],
   "metadata": {
    "collapsed": false,
    "ExecuteTime": {
     "end_time": "2023-09-03T19:20:05.602226100Z",
     "start_time": "2023-09-03T19:10:58.463511200Z"
    }
   }
  },
  {
   "cell_type": "code",
   "execution_count": 41,
   "metadata": {
    "ExecuteTime": {
     "end_time": "2023-09-03T19:38:51.589464500Z",
     "start_time": "2023-09-03T19:21:41.856812800Z"
    }
   },
   "outputs": [
    {
     "data": {
      "text/plain": "GridSearchCV(cv=10,\n             estimator=Pipeline(steps=[('vectorizer', CountVectorizer()),\n                                       ('normalizer', Normalizer()),\n                                       ('classifier', SGDClassifier())]),\n             param_grid={'classifier__class_weight': [None, 'balanced'],\n                         'classifier__learning_rate': ['constant', 'optimal',\n                                                       'invscaling',\n                                                       'adaptive'],\n                         'classifier__loss': ['hinge', 'log', 'modified_huber'],\n                         'classifier__penalty': ['l2', 'l1', 'elasticnet'],\n                         'normalizer__norm': ['l1', 'l2'],\n                         'vectorizer__tokenizer': [<function heb_token at 0x000001826CA54AF0>]},\n             scoring='f1_macro')",
      "text/html": "<style>#sk-container-id-13 {color: black;background-color: white;}#sk-container-id-13 pre{padding: 0;}#sk-container-id-13 div.sk-toggleable {background-color: white;}#sk-container-id-13 label.sk-toggleable__label {cursor: pointer;display: block;width: 100%;margin-bottom: 0;padding: 0.3em;box-sizing: border-box;text-align: center;}#sk-container-id-13 label.sk-toggleable__label-arrow:before {content: \"▸\";float: left;margin-right: 0.25em;color: #696969;}#sk-container-id-13 label.sk-toggleable__label-arrow:hover:before {color: black;}#sk-container-id-13 div.sk-estimator:hover label.sk-toggleable__label-arrow:before {color: black;}#sk-container-id-13 div.sk-toggleable__content {max-height: 0;max-width: 0;overflow: hidden;text-align: left;background-color: #f0f8ff;}#sk-container-id-13 div.sk-toggleable__content pre {margin: 0.2em;color: black;border-radius: 0.25em;background-color: #f0f8ff;}#sk-container-id-13 input.sk-toggleable__control:checked~div.sk-toggleable__content {max-height: 200px;max-width: 100%;overflow: auto;}#sk-container-id-13 input.sk-toggleable__control:checked~label.sk-toggleable__label-arrow:before {content: \"▾\";}#sk-container-id-13 div.sk-estimator input.sk-toggleable__control:checked~label.sk-toggleable__label {background-color: #d4ebff;}#sk-container-id-13 div.sk-label input.sk-toggleable__control:checked~label.sk-toggleable__label {background-color: #d4ebff;}#sk-container-id-13 input.sk-hidden--visually {border: 0;clip: rect(1px 1px 1px 1px);clip: rect(1px, 1px, 1px, 1px);height: 1px;margin: -1px;overflow: hidden;padding: 0;position: absolute;width: 1px;}#sk-container-id-13 div.sk-estimator {font-family: monospace;background-color: #f0f8ff;border: 1px dotted black;border-radius: 0.25em;box-sizing: border-box;margin-bottom: 0.5em;}#sk-container-id-13 div.sk-estimator:hover {background-color: #d4ebff;}#sk-container-id-13 div.sk-parallel-item::after {content: \"\";width: 100%;border-bottom: 1px solid gray;flex-grow: 1;}#sk-container-id-13 div.sk-label:hover label.sk-toggleable__label {background-color: #d4ebff;}#sk-container-id-13 div.sk-serial::before {content: \"\";position: absolute;border-left: 1px solid gray;box-sizing: border-box;top: 0;bottom: 0;left: 50%;z-index: 0;}#sk-container-id-13 div.sk-serial {display: flex;flex-direction: column;align-items: center;background-color: white;padding-right: 0.2em;padding-left: 0.2em;position: relative;}#sk-container-id-13 div.sk-item {position: relative;z-index: 1;}#sk-container-id-13 div.sk-parallel {display: flex;align-items: stretch;justify-content: center;background-color: white;position: relative;}#sk-container-id-13 div.sk-item::before, #sk-container-id-13 div.sk-parallel-item::before {content: \"\";position: absolute;border-left: 1px solid gray;box-sizing: border-box;top: 0;bottom: 0;left: 50%;z-index: -1;}#sk-container-id-13 div.sk-parallel-item {display: flex;flex-direction: column;z-index: 1;position: relative;background-color: white;}#sk-container-id-13 div.sk-parallel-item:first-child::after {align-self: flex-end;width: 50%;}#sk-container-id-13 div.sk-parallel-item:last-child::after {align-self: flex-start;width: 50%;}#sk-container-id-13 div.sk-parallel-item:only-child::after {width: 0;}#sk-container-id-13 div.sk-dashed-wrapped {border: 1px dashed gray;margin: 0 0.4em 0.5em 0.4em;box-sizing: border-box;padding-bottom: 0.4em;background-color: white;}#sk-container-id-13 div.sk-label label {font-family: monospace;font-weight: bold;display: inline-block;line-height: 1.2em;}#sk-container-id-13 div.sk-label-container {text-align: center;}#sk-container-id-13 div.sk-container {/* jupyter's `normalize.less` sets `[hidden] { display: none; }` but bootstrap.min.css set `[hidden] { display: none !important; }` so we also need the `!important` here to be able to override the default hidden behavior on the sphinx rendered scikit-learn.org. See: https://github.com/scikit-learn/scikit-learn/issues/21755 */display: inline-block !important;position: relative;}#sk-container-id-13 div.sk-text-repr-fallback {display: none;}</style><div id=\"sk-container-id-13\" class=\"sk-top-container\"><div class=\"sk-text-repr-fallback\"><pre>GridSearchCV(cv=10,\n             estimator=Pipeline(steps=[(&#x27;vectorizer&#x27;, CountVectorizer()),\n                                       (&#x27;normalizer&#x27;, Normalizer()),\n                                       (&#x27;classifier&#x27;, SGDClassifier())]),\n             param_grid={&#x27;classifier__class_weight&#x27;: [None, &#x27;balanced&#x27;],\n                         &#x27;classifier__learning_rate&#x27;: [&#x27;constant&#x27;, &#x27;optimal&#x27;,\n                                                       &#x27;invscaling&#x27;,\n                                                       &#x27;adaptive&#x27;],\n                         &#x27;classifier__loss&#x27;: [&#x27;hinge&#x27;, &#x27;log&#x27;, &#x27;modified_huber&#x27;],\n                         &#x27;classifier__penalty&#x27;: [&#x27;l2&#x27;, &#x27;l1&#x27;, &#x27;elasticnet&#x27;],\n                         &#x27;normalizer__norm&#x27;: [&#x27;l1&#x27;, &#x27;l2&#x27;],\n                         &#x27;vectorizer__tokenizer&#x27;: [&lt;function heb_token at 0x000001826CA54AF0&gt;]},\n             scoring=&#x27;f1_macro&#x27;)</pre><b>In a Jupyter environment, please rerun this cell to show the HTML representation or trust the notebook. <br />On GitHub, the HTML representation is unable to render, please try loading this page with nbviewer.org.</b></div><div class=\"sk-container\" hidden><div class=\"sk-item sk-dashed-wrapped\"><div class=\"sk-label-container\"><div class=\"sk-label sk-toggleable\"><input class=\"sk-toggleable__control sk-hidden--visually\" id=\"sk-estimator-id-60\" type=\"checkbox\" ><label for=\"sk-estimator-id-60\" class=\"sk-toggleable__label sk-toggleable__label-arrow\">GridSearchCV</label><div class=\"sk-toggleable__content\"><pre>GridSearchCV(cv=10,\n             estimator=Pipeline(steps=[(&#x27;vectorizer&#x27;, CountVectorizer()),\n                                       (&#x27;normalizer&#x27;, Normalizer()),\n                                       (&#x27;classifier&#x27;, SGDClassifier())]),\n             param_grid={&#x27;classifier__class_weight&#x27;: [None, &#x27;balanced&#x27;],\n                         &#x27;classifier__learning_rate&#x27;: [&#x27;constant&#x27;, &#x27;optimal&#x27;,\n                                                       &#x27;invscaling&#x27;,\n                                                       &#x27;adaptive&#x27;],\n                         &#x27;classifier__loss&#x27;: [&#x27;hinge&#x27;, &#x27;log&#x27;, &#x27;modified_huber&#x27;],\n                         &#x27;classifier__penalty&#x27;: [&#x27;l2&#x27;, &#x27;l1&#x27;, &#x27;elasticnet&#x27;],\n                         &#x27;normalizer__norm&#x27;: [&#x27;l1&#x27;, &#x27;l2&#x27;],\n                         &#x27;vectorizer__tokenizer&#x27;: [&lt;function heb_token at 0x000001826CA54AF0&gt;]},\n             scoring=&#x27;f1_macro&#x27;)</pre></div></div></div><div class=\"sk-parallel\"><div class=\"sk-parallel-item\"><div class=\"sk-item\"><div class=\"sk-label-container\"><div class=\"sk-label sk-toggleable\"><input class=\"sk-toggleable__control sk-hidden--visually\" id=\"sk-estimator-id-61\" type=\"checkbox\" ><label for=\"sk-estimator-id-61\" class=\"sk-toggleable__label sk-toggleable__label-arrow\">estimator: Pipeline</label><div class=\"sk-toggleable__content\"><pre>Pipeline(steps=[(&#x27;vectorizer&#x27;, CountVectorizer()), (&#x27;normalizer&#x27;, Normalizer()),\n                (&#x27;classifier&#x27;, SGDClassifier())])</pre></div></div></div><div class=\"sk-serial\"><div class=\"sk-item\"><div class=\"sk-serial\"><div class=\"sk-item\"><div class=\"sk-estimator sk-toggleable\"><input class=\"sk-toggleable__control sk-hidden--visually\" id=\"sk-estimator-id-62\" type=\"checkbox\" ><label for=\"sk-estimator-id-62\" class=\"sk-toggleable__label sk-toggleable__label-arrow\">CountVectorizer</label><div class=\"sk-toggleable__content\"><pre>CountVectorizer()</pre></div></div></div><div class=\"sk-item\"><div class=\"sk-estimator sk-toggleable\"><input class=\"sk-toggleable__control sk-hidden--visually\" id=\"sk-estimator-id-63\" type=\"checkbox\" ><label for=\"sk-estimator-id-63\" class=\"sk-toggleable__label sk-toggleable__label-arrow\">Normalizer</label><div class=\"sk-toggleable__content\"><pre>Normalizer()</pre></div></div></div><div class=\"sk-item\"><div class=\"sk-estimator sk-toggleable\"><input class=\"sk-toggleable__control sk-hidden--visually\" id=\"sk-estimator-id-64\" type=\"checkbox\" ><label for=\"sk-estimator-id-64\" class=\"sk-toggleable__label sk-toggleable__label-arrow\">SGDClassifier</label><div class=\"sk-toggleable__content\"><pre>SGDClassifier()</pre></div></div></div></div></div></div></div></div></div></div></div></div>"
     },
     "execution_count": 41,
     "metadata": {},
     "output_type": "execute_result"
    },
    {
     "name": "stdout",
     "output_type": "stream",
     "text": [
      "Best parameter (CV score=0.707):\n",
      "{'classifier__class_weight': None, 'classifier__learning_rate': 'optimal', 'classifier__loss': 'hinge', 'classifier__penalty': 'elasticnet', 'normalizer__norm': 'l2', 'vectorizer__tokenizer': <function heb_token at 0x000001826CA54AF0>}\n"
     ]
    }
   ],
   "source": [
    "##SGD:\n",
    "sgd_cv_pipe=Pipeline([(\"vectorizer\",CountVectorizer()),\n",
    "             (\"normalizer\",preprocessing.Normalizer()),\n",
    "            (\"classifier\",SGDClassifier())])\n",
    "\n",
    "sgd_cv_grid={\"vectorizer__tokenizer\":[heb_token],\n",
    "             \"normalizer__norm\":[\"l1\",\"l2\"],\n",
    "             'classifier__loss': ['hinge', 'log', 'modified_huber'],\n",
    "             'classifier__penalty': ['l2', 'l1', 'elasticnet'],\n",
    "             'classifier__learning_rate': ['constant', 'optimal', 'invscaling', 'adaptive'],\n",
    "             'classifier__class_weight': [None, 'balanced']\n",
    "          }\n",
    "\n",
    "search_sgd=GridSearchCV(sgd_cv_pipe,sgd_cv_grid,cv=10,scoring=\"f1_macro\")\n",
    "search_sgd.fit(X,y)\n",
    "print(\"Best parameter (CV score=%0.3f):\" % search_sgd.best_score_)\n",
    "print(search_sgd.best_params_)"
   ]
  },
  {
   "cell_type": "code",
   "execution_count": 47,
   "metadata": {
    "ExecuteTime": {
     "end_time": "2023-09-03T21:25:07.277639500Z",
     "start_time": "2023-09-03T21:07:04.399256500Z"
    }
   },
   "outputs": [
    {
     "data": {
      "text/plain": "GridSearchCV(cv=10,\n             estimator=Pipeline(steps=[('vectorizer', TfidfVectorizer()),\n                                       ('normalizer', Normalizer()),\n                                       ('classifier', SGDClassifier())]),\n             param_grid={'classifier__class_weight': [None, 'balanced'],\n                         'classifier__learning_rate': ['constant', 'optimal',\n                                                       'invscaling',\n                                                       'adaptive'],\n                         'classifier__loss': ['hinge', 'log', 'modified_huber'],\n                         'classifier__penalty': ['l2', 'l1', 'elasticnet'],\n                         'normalizer__norm': ['l1', 'l2'],\n                         'vectorizer__tokenizer': [<function heb_token at 0x000001826CA54AF0>]},\n             scoring='f1_macro')",
      "text/html": "<style>#sk-container-id-19 {color: black;background-color: white;}#sk-container-id-19 pre{padding: 0;}#sk-container-id-19 div.sk-toggleable {background-color: white;}#sk-container-id-19 label.sk-toggleable__label {cursor: pointer;display: block;width: 100%;margin-bottom: 0;padding: 0.3em;box-sizing: border-box;text-align: center;}#sk-container-id-19 label.sk-toggleable__label-arrow:before {content: \"▸\";float: left;margin-right: 0.25em;color: #696969;}#sk-container-id-19 label.sk-toggleable__label-arrow:hover:before {color: black;}#sk-container-id-19 div.sk-estimator:hover label.sk-toggleable__label-arrow:before {color: black;}#sk-container-id-19 div.sk-toggleable__content {max-height: 0;max-width: 0;overflow: hidden;text-align: left;background-color: #f0f8ff;}#sk-container-id-19 div.sk-toggleable__content pre {margin: 0.2em;color: black;border-radius: 0.25em;background-color: #f0f8ff;}#sk-container-id-19 input.sk-toggleable__control:checked~div.sk-toggleable__content {max-height: 200px;max-width: 100%;overflow: auto;}#sk-container-id-19 input.sk-toggleable__control:checked~label.sk-toggleable__label-arrow:before {content: \"▾\";}#sk-container-id-19 div.sk-estimator input.sk-toggleable__control:checked~label.sk-toggleable__label {background-color: #d4ebff;}#sk-container-id-19 div.sk-label input.sk-toggleable__control:checked~label.sk-toggleable__label {background-color: #d4ebff;}#sk-container-id-19 input.sk-hidden--visually {border: 0;clip: rect(1px 1px 1px 1px);clip: rect(1px, 1px, 1px, 1px);height: 1px;margin: -1px;overflow: hidden;padding: 0;position: absolute;width: 1px;}#sk-container-id-19 div.sk-estimator {font-family: monospace;background-color: #f0f8ff;border: 1px dotted black;border-radius: 0.25em;box-sizing: border-box;margin-bottom: 0.5em;}#sk-container-id-19 div.sk-estimator:hover {background-color: #d4ebff;}#sk-container-id-19 div.sk-parallel-item::after {content: \"\";width: 100%;border-bottom: 1px solid gray;flex-grow: 1;}#sk-container-id-19 div.sk-label:hover label.sk-toggleable__label {background-color: #d4ebff;}#sk-container-id-19 div.sk-serial::before {content: \"\";position: absolute;border-left: 1px solid gray;box-sizing: border-box;top: 0;bottom: 0;left: 50%;z-index: 0;}#sk-container-id-19 div.sk-serial {display: flex;flex-direction: column;align-items: center;background-color: white;padding-right: 0.2em;padding-left: 0.2em;position: relative;}#sk-container-id-19 div.sk-item {position: relative;z-index: 1;}#sk-container-id-19 div.sk-parallel {display: flex;align-items: stretch;justify-content: center;background-color: white;position: relative;}#sk-container-id-19 div.sk-item::before, #sk-container-id-19 div.sk-parallel-item::before {content: \"\";position: absolute;border-left: 1px solid gray;box-sizing: border-box;top: 0;bottom: 0;left: 50%;z-index: -1;}#sk-container-id-19 div.sk-parallel-item {display: flex;flex-direction: column;z-index: 1;position: relative;background-color: white;}#sk-container-id-19 div.sk-parallel-item:first-child::after {align-self: flex-end;width: 50%;}#sk-container-id-19 div.sk-parallel-item:last-child::after {align-self: flex-start;width: 50%;}#sk-container-id-19 div.sk-parallel-item:only-child::after {width: 0;}#sk-container-id-19 div.sk-dashed-wrapped {border: 1px dashed gray;margin: 0 0.4em 0.5em 0.4em;box-sizing: border-box;padding-bottom: 0.4em;background-color: white;}#sk-container-id-19 div.sk-label label {font-family: monospace;font-weight: bold;display: inline-block;line-height: 1.2em;}#sk-container-id-19 div.sk-label-container {text-align: center;}#sk-container-id-19 div.sk-container {/* jupyter's `normalize.less` sets `[hidden] { display: none; }` but bootstrap.min.css set `[hidden] { display: none !important; }` so we also need the `!important` here to be able to override the default hidden behavior on the sphinx rendered scikit-learn.org. See: https://github.com/scikit-learn/scikit-learn/issues/21755 */display: inline-block !important;position: relative;}#sk-container-id-19 div.sk-text-repr-fallback {display: none;}</style><div id=\"sk-container-id-19\" class=\"sk-top-container\"><div class=\"sk-text-repr-fallback\"><pre>GridSearchCV(cv=10,\n             estimator=Pipeline(steps=[(&#x27;vectorizer&#x27;, TfidfVectorizer()),\n                                       (&#x27;normalizer&#x27;, Normalizer()),\n                                       (&#x27;classifier&#x27;, SGDClassifier())]),\n             param_grid={&#x27;classifier__class_weight&#x27;: [None, &#x27;balanced&#x27;],\n                         &#x27;classifier__learning_rate&#x27;: [&#x27;constant&#x27;, &#x27;optimal&#x27;,\n                                                       &#x27;invscaling&#x27;,\n                                                       &#x27;adaptive&#x27;],\n                         &#x27;classifier__loss&#x27;: [&#x27;hinge&#x27;, &#x27;log&#x27;, &#x27;modified_huber&#x27;],\n                         &#x27;classifier__penalty&#x27;: [&#x27;l2&#x27;, &#x27;l1&#x27;, &#x27;elasticnet&#x27;],\n                         &#x27;normalizer__norm&#x27;: [&#x27;l1&#x27;, &#x27;l2&#x27;],\n                         &#x27;vectorizer__tokenizer&#x27;: [&lt;function heb_token at 0x000001826CA54AF0&gt;]},\n             scoring=&#x27;f1_macro&#x27;)</pre><b>In a Jupyter environment, please rerun this cell to show the HTML representation or trust the notebook. <br />On GitHub, the HTML representation is unable to render, please try loading this page with nbviewer.org.</b></div><div class=\"sk-container\" hidden><div class=\"sk-item sk-dashed-wrapped\"><div class=\"sk-label-container\"><div class=\"sk-label sk-toggleable\"><input class=\"sk-toggleable__control sk-hidden--visually\" id=\"sk-estimator-id-90\" type=\"checkbox\" ><label for=\"sk-estimator-id-90\" class=\"sk-toggleable__label sk-toggleable__label-arrow\">GridSearchCV</label><div class=\"sk-toggleable__content\"><pre>GridSearchCV(cv=10,\n             estimator=Pipeline(steps=[(&#x27;vectorizer&#x27;, TfidfVectorizer()),\n                                       (&#x27;normalizer&#x27;, Normalizer()),\n                                       (&#x27;classifier&#x27;, SGDClassifier())]),\n             param_grid={&#x27;classifier__class_weight&#x27;: [None, &#x27;balanced&#x27;],\n                         &#x27;classifier__learning_rate&#x27;: [&#x27;constant&#x27;, &#x27;optimal&#x27;,\n                                                       &#x27;invscaling&#x27;,\n                                                       &#x27;adaptive&#x27;],\n                         &#x27;classifier__loss&#x27;: [&#x27;hinge&#x27;, &#x27;log&#x27;, &#x27;modified_huber&#x27;],\n                         &#x27;classifier__penalty&#x27;: [&#x27;l2&#x27;, &#x27;l1&#x27;, &#x27;elasticnet&#x27;],\n                         &#x27;normalizer__norm&#x27;: [&#x27;l1&#x27;, &#x27;l2&#x27;],\n                         &#x27;vectorizer__tokenizer&#x27;: [&lt;function heb_token at 0x000001826CA54AF0&gt;]},\n             scoring=&#x27;f1_macro&#x27;)</pre></div></div></div><div class=\"sk-parallel\"><div class=\"sk-parallel-item\"><div class=\"sk-item\"><div class=\"sk-label-container\"><div class=\"sk-label sk-toggleable\"><input class=\"sk-toggleable__control sk-hidden--visually\" id=\"sk-estimator-id-91\" type=\"checkbox\" ><label for=\"sk-estimator-id-91\" class=\"sk-toggleable__label sk-toggleable__label-arrow\">estimator: Pipeline</label><div class=\"sk-toggleable__content\"><pre>Pipeline(steps=[(&#x27;vectorizer&#x27;, TfidfVectorizer()), (&#x27;normalizer&#x27;, Normalizer()),\n                (&#x27;classifier&#x27;, SGDClassifier())])</pre></div></div></div><div class=\"sk-serial\"><div class=\"sk-item\"><div class=\"sk-serial\"><div class=\"sk-item\"><div class=\"sk-estimator sk-toggleable\"><input class=\"sk-toggleable__control sk-hidden--visually\" id=\"sk-estimator-id-92\" type=\"checkbox\" ><label for=\"sk-estimator-id-92\" class=\"sk-toggleable__label sk-toggleable__label-arrow\">TfidfVectorizer</label><div class=\"sk-toggleable__content\"><pre>TfidfVectorizer()</pre></div></div></div><div class=\"sk-item\"><div class=\"sk-estimator sk-toggleable\"><input class=\"sk-toggleable__control sk-hidden--visually\" id=\"sk-estimator-id-93\" type=\"checkbox\" ><label for=\"sk-estimator-id-93\" class=\"sk-toggleable__label sk-toggleable__label-arrow\">Normalizer</label><div class=\"sk-toggleable__content\"><pre>Normalizer()</pre></div></div></div><div class=\"sk-item\"><div class=\"sk-estimator sk-toggleable\"><input class=\"sk-toggleable__control sk-hidden--visually\" id=\"sk-estimator-id-94\" type=\"checkbox\" ><label for=\"sk-estimator-id-94\" class=\"sk-toggleable__label sk-toggleable__label-arrow\">SGDClassifier</label><div class=\"sk-toggleable__content\"><pre>SGDClassifier()</pre></div></div></div></div></div></div></div></div></div></div></div></div>"
     },
     "execution_count": 47,
     "metadata": {},
     "output_type": "execute_result"
    },
    {
     "name": "stdout",
     "output_type": "stream",
     "text": [
      "Best parameter (CV score=0.712):\n",
      "{'classifier__class_weight': 'balanced', 'classifier__learning_rate': 'optimal', 'classifier__loss': 'log', 'classifier__penalty': 'l1', 'normalizer__norm': 'l2', 'vectorizer__tokenizer': <function heb_token at 0x000001826CA54AF0>}\n"
     ]
    }
   ],
   "source": [
    "##SGD:\n",
    "sgd_cv_pipe=Pipeline([(\"vectorizer\",TfidfVectorizer()),\n",
    "             (\"normalizer\",preprocessing.Normalizer()),\n",
    "            (\"classifier\",SGDClassifier())])\n",
    "\n",
    "sgd_cv_grid={\"vectorizer__tokenizer\":[heb_token],\n",
    "             \"normalizer__norm\":[\"l1\",\"l2\"],\n",
    "             'classifier__loss': ['hinge', 'log', 'modified_huber'],\n",
    "             'classifier__penalty': ['l2', 'l1', 'elasticnet'],\n",
    "             'classifier__learning_rate': ['constant', 'optimal', 'invscaling', 'adaptive'],\n",
    "             'classifier__class_weight': [None, 'balanced']\n",
    "          }\n",
    "\n",
    "search_sgd=GridSearchCV(sgd_cv_pipe,sgd_cv_grid,cv=10,scoring=\"f1_macro\")\n",
    "search_sgd.fit(X,y)\n",
    "print(\"Best parameter (CV score=%0.3f):\" % search_sgd.best_score_)\n",
    "print(search_sgd.best_params_)"
   ]
  },
  {
   "cell_type": "code",
   "execution_count": 46,
   "metadata": {
    "ExecuteTime": {
     "end_time": "2023-09-03T21:06:14.375343500Z",
     "start_time": "2023-09-03T21:02:59.981904200Z"
    }
   },
   "outputs": [
    {
     "data": {
      "text/plain": "GridSearchCV(cv=10,\n             estimator=Pipeline(steps=[('vectorizer', TfidfVectorizer()),\n                                       ('normalizer', Normalizer()),\n                                       ('classifier', LinearSVC())]),\n             param_grid={'classifier__C': [0.1, 1, 10],\n                         'classifier__class_weight': [None, 'balanced'],\n                         'classifier__loss': ['hinge', 'squared_hinge'],\n                         'normalizer__norm': ['l1', 'l2'],\n                         'vectorizer__tokenizer': [<function heb_token at 0x000001826CA54AF0>]},\n             scoring='f1_macro')",
      "text/html": "<style>#sk-container-id-18 {color: black;background-color: white;}#sk-container-id-18 pre{padding: 0;}#sk-container-id-18 div.sk-toggleable {background-color: white;}#sk-container-id-18 label.sk-toggleable__label {cursor: pointer;display: block;width: 100%;margin-bottom: 0;padding: 0.3em;box-sizing: border-box;text-align: center;}#sk-container-id-18 label.sk-toggleable__label-arrow:before {content: \"▸\";float: left;margin-right: 0.25em;color: #696969;}#sk-container-id-18 label.sk-toggleable__label-arrow:hover:before {color: black;}#sk-container-id-18 div.sk-estimator:hover label.sk-toggleable__label-arrow:before {color: black;}#sk-container-id-18 div.sk-toggleable__content {max-height: 0;max-width: 0;overflow: hidden;text-align: left;background-color: #f0f8ff;}#sk-container-id-18 div.sk-toggleable__content pre {margin: 0.2em;color: black;border-radius: 0.25em;background-color: #f0f8ff;}#sk-container-id-18 input.sk-toggleable__control:checked~div.sk-toggleable__content {max-height: 200px;max-width: 100%;overflow: auto;}#sk-container-id-18 input.sk-toggleable__control:checked~label.sk-toggleable__label-arrow:before {content: \"▾\";}#sk-container-id-18 div.sk-estimator input.sk-toggleable__control:checked~label.sk-toggleable__label {background-color: #d4ebff;}#sk-container-id-18 div.sk-label input.sk-toggleable__control:checked~label.sk-toggleable__label {background-color: #d4ebff;}#sk-container-id-18 input.sk-hidden--visually {border: 0;clip: rect(1px 1px 1px 1px);clip: rect(1px, 1px, 1px, 1px);height: 1px;margin: -1px;overflow: hidden;padding: 0;position: absolute;width: 1px;}#sk-container-id-18 div.sk-estimator {font-family: monospace;background-color: #f0f8ff;border: 1px dotted black;border-radius: 0.25em;box-sizing: border-box;margin-bottom: 0.5em;}#sk-container-id-18 div.sk-estimator:hover {background-color: #d4ebff;}#sk-container-id-18 div.sk-parallel-item::after {content: \"\";width: 100%;border-bottom: 1px solid gray;flex-grow: 1;}#sk-container-id-18 div.sk-label:hover label.sk-toggleable__label {background-color: #d4ebff;}#sk-container-id-18 div.sk-serial::before {content: \"\";position: absolute;border-left: 1px solid gray;box-sizing: border-box;top: 0;bottom: 0;left: 50%;z-index: 0;}#sk-container-id-18 div.sk-serial {display: flex;flex-direction: column;align-items: center;background-color: white;padding-right: 0.2em;padding-left: 0.2em;position: relative;}#sk-container-id-18 div.sk-item {position: relative;z-index: 1;}#sk-container-id-18 div.sk-parallel {display: flex;align-items: stretch;justify-content: center;background-color: white;position: relative;}#sk-container-id-18 div.sk-item::before, #sk-container-id-18 div.sk-parallel-item::before {content: \"\";position: absolute;border-left: 1px solid gray;box-sizing: border-box;top: 0;bottom: 0;left: 50%;z-index: -1;}#sk-container-id-18 div.sk-parallel-item {display: flex;flex-direction: column;z-index: 1;position: relative;background-color: white;}#sk-container-id-18 div.sk-parallel-item:first-child::after {align-self: flex-end;width: 50%;}#sk-container-id-18 div.sk-parallel-item:last-child::after {align-self: flex-start;width: 50%;}#sk-container-id-18 div.sk-parallel-item:only-child::after {width: 0;}#sk-container-id-18 div.sk-dashed-wrapped {border: 1px dashed gray;margin: 0 0.4em 0.5em 0.4em;box-sizing: border-box;padding-bottom: 0.4em;background-color: white;}#sk-container-id-18 div.sk-label label {font-family: monospace;font-weight: bold;display: inline-block;line-height: 1.2em;}#sk-container-id-18 div.sk-label-container {text-align: center;}#sk-container-id-18 div.sk-container {/* jupyter's `normalize.less` sets `[hidden] { display: none; }` but bootstrap.min.css set `[hidden] { display: none !important; }` so we also need the `!important` here to be able to override the default hidden behavior on the sphinx rendered scikit-learn.org. See: https://github.com/scikit-learn/scikit-learn/issues/21755 */display: inline-block !important;position: relative;}#sk-container-id-18 div.sk-text-repr-fallback {display: none;}</style><div id=\"sk-container-id-18\" class=\"sk-top-container\"><div class=\"sk-text-repr-fallback\"><pre>GridSearchCV(cv=10,\n             estimator=Pipeline(steps=[(&#x27;vectorizer&#x27;, TfidfVectorizer()),\n                                       (&#x27;normalizer&#x27;, Normalizer()),\n                                       (&#x27;classifier&#x27;, LinearSVC())]),\n             param_grid={&#x27;classifier__C&#x27;: [0.1, 1, 10],\n                         &#x27;classifier__class_weight&#x27;: [None, &#x27;balanced&#x27;],\n                         &#x27;classifier__loss&#x27;: [&#x27;hinge&#x27;, &#x27;squared_hinge&#x27;],\n                         &#x27;normalizer__norm&#x27;: [&#x27;l1&#x27;, &#x27;l2&#x27;],\n                         &#x27;vectorizer__tokenizer&#x27;: [&lt;function heb_token at 0x000001826CA54AF0&gt;]},\n             scoring=&#x27;f1_macro&#x27;)</pre><b>In a Jupyter environment, please rerun this cell to show the HTML representation or trust the notebook. <br />On GitHub, the HTML representation is unable to render, please try loading this page with nbviewer.org.</b></div><div class=\"sk-container\" hidden><div class=\"sk-item sk-dashed-wrapped\"><div class=\"sk-label-container\"><div class=\"sk-label sk-toggleable\"><input class=\"sk-toggleable__control sk-hidden--visually\" id=\"sk-estimator-id-85\" type=\"checkbox\" ><label for=\"sk-estimator-id-85\" class=\"sk-toggleable__label sk-toggleable__label-arrow\">GridSearchCV</label><div class=\"sk-toggleable__content\"><pre>GridSearchCV(cv=10,\n             estimator=Pipeline(steps=[(&#x27;vectorizer&#x27;, TfidfVectorizer()),\n                                       (&#x27;normalizer&#x27;, Normalizer()),\n                                       (&#x27;classifier&#x27;, LinearSVC())]),\n             param_grid={&#x27;classifier__C&#x27;: [0.1, 1, 10],\n                         &#x27;classifier__class_weight&#x27;: [None, &#x27;balanced&#x27;],\n                         &#x27;classifier__loss&#x27;: [&#x27;hinge&#x27;, &#x27;squared_hinge&#x27;],\n                         &#x27;normalizer__norm&#x27;: [&#x27;l1&#x27;, &#x27;l2&#x27;],\n                         &#x27;vectorizer__tokenizer&#x27;: [&lt;function heb_token at 0x000001826CA54AF0&gt;]},\n             scoring=&#x27;f1_macro&#x27;)</pre></div></div></div><div class=\"sk-parallel\"><div class=\"sk-parallel-item\"><div class=\"sk-item\"><div class=\"sk-label-container\"><div class=\"sk-label sk-toggleable\"><input class=\"sk-toggleable__control sk-hidden--visually\" id=\"sk-estimator-id-86\" type=\"checkbox\" ><label for=\"sk-estimator-id-86\" class=\"sk-toggleable__label sk-toggleable__label-arrow\">estimator: Pipeline</label><div class=\"sk-toggleable__content\"><pre>Pipeline(steps=[(&#x27;vectorizer&#x27;, TfidfVectorizer()), (&#x27;normalizer&#x27;, Normalizer()),\n                (&#x27;classifier&#x27;, LinearSVC())])</pre></div></div></div><div class=\"sk-serial\"><div class=\"sk-item\"><div class=\"sk-serial\"><div class=\"sk-item\"><div class=\"sk-estimator sk-toggleable\"><input class=\"sk-toggleable__control sk-hidden--visually\" id=\"sk-estimator-id-87\" type=\"checkbox\" ><label for=\"sk-estimator-id-87\" class=\"sk-toggleable__label sk-toggleable__label-arrow\">TfidfVectorizer</label><div class=\"sk-toggleable__content\"><pre>TfidfVectorizer()</pre></div></div></div><div class=\"sk-item\"><div class=\"sk-estimator sk-toggleable\"><input class=\"sk-toggleable__control sk-hidden--visually\" id=\"sk-estimator-id-88\" type=\"checkbox\" ><label for=\"sk-estimator-id-88\" class=\"sk-toggleable__label sk-toggleable__label-arrow\">Normalizer</label><div class=\"sk-toggleable__content\"><pre>Normalizer()</pre></div></div></div><div class=\"sk-item\"><div class=\"sk-estimator sk-toggleable\"><input class=\"sk-toggleable__control sk-hidden--visually\" id=\"sk-estimator-id-89\" type=\"checkbox\" ><label for=\"sk-estimator-id-89\" class=\"sk-toggleable__label sk-toggleable__label-arrow\">LinearSVC</label><div class=\"sk-toggleable__content\"><pre>LinearSVC()</pre></div></div></div></div></div></div></div></div></div></div></div></div>"
     },
     "execution_count": 46,
     "metadata": {},
     "output_type": "execute_result"
    },
    {
     "name": "stdout",
     "output_type": "stream",
     "text": [
      "Best parameter (CV score=0.687):\n",
      "{'classifier__C': 10, 'classifier__class_weight': 'balanced', 'classifier__loss': 'squared_hinge', 'normalizer__norm': 'l1', 'vectorizer__tokenizer': <function heb_token at 0x000001826CA54AF0>}\n"
     ]
    }
   ],
   "source": [
    "lsvc_pipe=Pipeline([(\"vectorizer\",TfidfVectorizer()),\n",
    "             (\"normalizer\",preprocessing.Normalizer()),\n",
    "            (\"classifier\",LinearSVC())])\n",
    "\n",
    "lsvc_grid={\"vectorizer__tokenizer\":[heb_token],\n",
    "             \"normalizer__norm\":[\"l1\",\"l2\"],\n",
    "            'classifier__C': [0.1, 1, 10],\n",
    "            'classifier__loss': ['hinge', 'squared_hinge'],\n",
    "            'classifier__class_weight': [None, 'balanced']\n",
    "          }\n",
    "\n",
    "search_lsvc=GridSearchCV(lsvc_pipe,lsvc_grid,cv=10,scoring=\"f1_macro\")\n",
    "search_lsvc.fit(X,y)\n",
    "print(\"Best parameter (CV score=%0.3f):\" % search_lsvc.best_score_)\n",
    "print(search_lsvc.best_params_)"
   ]
  },
  {
   "cell_type": "code",
   "execution_count": 45,
   "metadata": {
    "ExecuteTime": {
     "end_time": "2023-09-03T21:00:24.217917700Z",
     "start_time": "2023-09-03T20:57:12.919075400Z"
    }
   },
   "outputs": [
    {
     "data": {
      "text/plain": "GridSearchCV(cv=10,\n             estimator=Pipeline(steps=[('vectorizer', CountVectorizer()),\n                                       ('normalizer', Normalizer()),\n                                       ('classifier', LinearSVC())]),\n             param_grid={'classifier__C': [0.1, 1, 10],\n                         'classifier__class_weight': [None, 'balanced'],\n                         'classifier__loss': ['hinge', 'squared_hinge'],\n                         'normalizer__norm': ['l1', 'l2'],\n                         'vectorizer__tokenizer': [<function heb_token at 0x000001826CA54AF0>]},\n             scoring='f1_macro')",
      "text/html": "<style>#sk-container-id-17 {color: black;background-color: white;}#sk-container-id-17 pre{padding: 0;}#sk-container-id-17 div.sk-toggleable {background-color: white;}#sk-container-id-17 label.sk-toggleable__label {cursor: pointer;display: block;width: 100%;margin-bottom: 0;padding: 0.3em;box-sizing: border-box;text-align: center;}#sk-container-id-17 label.sk-toggleable__label-arrow:before {content: \"▸\";float: left;margin-right: 0.25em;color: #696969;}#sk-container-id-17 label.sk-toggleable__label-arrow:hover:before {color: black;}#sk-container-id-17 div.sk-estimator:hover label.sk-toggleable__label-arrow:before {color: black;}#sk-container-id-17 div.sk-toggleable__content {max-height: 0;max-width: 0;overflow: hidden;text-align: left;background-color: #f0f8ff;}#sk-container-id-17 div.sk-toggleable__content pre {margin: 0.2em;color: black;border-radius: 0.25em;background-color: #f0f8ff;}#sk-container-id-17 input.sk-toggleable__control:checked~div.sk-toggleable__content {max-height: 200px;max-width: 100%;overflow: auto;}#sk-container-id-17 input.sk-toggleable__control:checked~label.sk-toggleable__label-arrow:before {content: \"▾\";}#sk-container-id-17 div.sk-estimator input.sk-toggleable__control:checked~label.sk-toggleable__label {background-color: #d4ebff;}#sk-container-id-17 div.sk-label input.sk-toggleable__control:checked~label.sk-toggleable__label {background-color: #d4ebff;}#sk-container-id-17 input.sk-hidden--visually {border: 0;clip: rect(1px 1px 1px 1px);clip: rect(1px, 1px, 1px, 1px);height: 1px;margin: -1px;overflow: hidden;padding: 0;position: absolute;width: 1px;}#sk-container-id-17 div.sk-estimator {font-family: monospace;background-color: #f0f8ff;border: 1px dotted black;border-radius: 0.25em;box-sizing: border-box;margin-bottom: 0.5em;}#sk-container-id-17 div.sk-estimator:hover {background-color: #d4ebff;}#sk-container-id-17 div.sk-parallel-item::after {content: \"\";width: 100%;border-bottom: 1px solid gray;flex-grow: 1;}#sk-container-id-17 div.sk-label:hover label.sk-toggleable__label {background-color: #d4ebff;}#sk-container-id-17 div.sk-serial::before {content: \"\";position: absolute;border-left: 1px solid gray;box-sizing: border-box;top: 0;bottom: 0;left: 50%;z-index: 0;}#sk-container-id-17 div.sk-serial {display: flex;flex-direction: column;align-items: center;background-color: white;padding-right: 0.2em;padding-left: 0.2em;position: relative;}#sk-container-id-17 div.sk-item {position: relative;z-index: 1;}#sk-container-id-17 div.sk-parallel {display: flex;align-items: stretch;justify-content: center;background-color: white;position: relative;}#sk-container-id-17 div.sk-item::before, #sk-container-id-17 div.sk-parallel-item::before {content: \"\";position: absolute;border-left: 1px solid gray;box-sizing: border-box;top: 0;bottom: 0;left: 50%;z-index: -1;}#sk-container-id-17 div.sk-parallel-item {display: flex;flex-direction: column;z-index: 1;position: relative;background-color: white;}#sk-container-id-17 div.sk-parallel-item:first-child::after {align-self: flex-end;width: 50%;}#sk-container-id-17 div.sk-parallel-item:last-child::after {align-self: flex-start;width: 50%;}#sk-container-id-17 div.sk-parallel-item:only-child::after {width: 0;}#sk-container-id-17 div.sk-dashed-wrapped {border: 1px dashed gray;margin: 0 0.4em 0.5em 0.4em;box-sizing: border-box;padding-bottom: 0.4em;background-color: white;}#sk-container-id-17 div.sk-label label {font-family: monospace;font-weight: bold;display: inline-block;line-height: 1.2em;}#sk-container-id-17 div.sk-label-container {text-align: center;}#sk-container-id-17 div.sk-container {/* jupyter's `normalize.less` sets `[hidden] { display: none; }` but bootstrap.min.css set `[hidden] { display: none !important; }` so we also need the `!important` here to be able to override the default hidden behavior on the sphinx rendered scikit-learn.org. See: https://github.com/scikit-learn/scikit-learn/issues/21755 */display: inline-block !important;position: relative;}#sk-container-id-17 div.sk-text-repr-fallback {display: none;}</style><div id=\"sk-container-id-17\" class=\"sk-top-container\"><div class=\"sk-text-repr-fallback\"><pre>GridSearchCV(cv=10,\n             estimator=Pipeline(steps=[(&#x27;vectorizer&#x27;, CountVectorizer()),\n                                       (&#x27;normalizer&#x27;, Normalizer()),\n                                       (&#x27;classifier&#x27;, LinearSVC())]),\n             param_grid={&#x27;classifier__C&#x27;: [0.1, 1, 10],\n                         &#x27;classifier__class_weight&#x27;: [None, &#x27;balanced&#x27;],\n                         &#x27;classifier__loss&#x27;: [&#x27;hinge&#x27;, &#x27;squared_hinge&#x27;],\n                         &#x27;normalizer__norm&#x27;: [&#x27;l1&#x27;, &#x27;l2&#x27;],\n                         &#x27;vectorizer__tokenizer&#x27;: [&lt;function heb_token at 0x000001826CA54AF0&gt;]},\n             scoring=&#x27;f1_macro&#x27;)</pre><b>In a Jupyter environment, please rerun this cell to show the HTML representation or trust the notebook. <br />On GitHub, the HTML representation is unable to render, please try loading this page with nbviewer.org.</b></div><div class=\"sk-container\" hidden><div class=\"sk-item sk-dashed-wrapped\"><div class=\"sk-label-container\"><div class=\"sk-label sk-toggleable\"><input class=\"sk-toggleable__control sk-hidden--visually\" id=\"sk-estimator-id-80\" type=\"checkbox\" ><label for=\"sk-estimator-id-80\" class=\"sk-toggleable__label sk-toggleable__label-arrow\">GridSearchCV</label><div class=\"sk-toggleable__content\"><pre>GridSearchCV(cv=10,\n             estimator=Pipeline(steps=[(&#x27;vectorizer&#x27;, CountVectorizer()),\n                                       (&#x27;normalizer&#x27;, Normalizer()),\n                                       (&#x27;classifier&#x27;, LinearSVC())]),\n             param_grid={&#x27;classifier__C&#x27;: [0.1, 1, 10],\n                         &#x27;classifier__class_weight&#x27;: [None, &#x27;balanced&#x27;],\n                         &#x27;classifier__loss&#x27;: [&#x27;hinge&#x27;, &#x27;squared_hinge&#x27;],\n                         &#x27;normalizer__norm&#x27;: [&#x27;l1&#x27;, &#x27;l2&#x27;],\n                         &#x27;vectorizer__tokenizer&#x27;: [&lt;function heb_token at 0x000001826CA54AF0&gt;]},\n             scoring=&#x27;f1_macro&#x27;)</pre></div></div></div><div class=\"sk-parallel\"><div class=\"sk-parallel-item\"><div class=\"sk-item\"><div class=\"sk-label-container\"><div class=\"sk-label sk-toggleable\"><input class=\"sk-toggleable__control sk-hidden--visually\" id=\"sk-estimator-id-81\" type=\"checkbox\" ><label for=\"sk-estimator-id-81\" class=\"sk-toggleable__label sk-toggleable__label-arrow\">estimator: Pipeline</label><div class=\"sk-toggleable__content\"><pre>Pipeline(steps=[(&#x27;vectorizer&#x27;, CountVectorizer()), (&#x27;normalizer&#x27;, Normalizer()),\n                (&#x27;classifier&#x27;, LinearSVC())])</pre></div></div></div><div class=\"sk-serial\"><div class=\"sk-item\"><div class=\"sk-serial\"><div class=\"sk-item\"><div class=\"sk-estimator sk-toggleable\"><input class=\"sk-toggleable__control sk-hidden--visually\" id=\"sk-estimator-id-82\" type=\"checkbox\" ><label for=\"sk-estimator-id-82\" class=\"sk-toggleable__label sk-toggleable__label-arrow\">CountVectorizer</label><div class=\"sk-toggleable__content\"><pre>CountVectorizer()</pre></div></div></div><div class=\"sk-item\"><div class=\"sk-estimator sk-toggleable\"><input class=\"sk-toggleable__control sk-hidden--visually\" id=\"sk-estimator-id-83\" type=\"checkbox\" ><label for=\"sk-estimator-id-83\" class=\"sk-toggleable__label sk-toggleable__label-arrow\">Normalizer</label><div class=\"sk-toggleable__content\"><pre>Normalizer()</pre></div></div></div><div class=\"sk-item\"><div class=\"sk-estimator sk-toggleable\"><input class=\"sk-toggleable__control sk-hidden--visually\" id=\"sk-estimator-id-84\" type=\"checkbox\" ><label for=\"sk-estimator-id-84\" class=\"sk-toggleable__label sk-toggleable__label-arrow\">LinearSVC</label><div class=\"sk-toggleable__content\"><pre>LinearSVC()</pre></div></div></div></div></div></div></div></div></div></div></div></div>"
     },
     "execution_count": 45,
     "metadata": {},
     "output_type": "execute_result"
    },
    {
     "name": "stdout",
     "output_type": "stream",
     "text": [
      "Best parameter (CV score=0.694):\n",
      "{'classifier__C': 1, 'classifier__class_weight': 'balanced', 'classifier__loss': 'squared_hinge', 'normalizer__norm': 'l2', 'vectorizer__tokenizer': <function heb_token at 0x000001826CA54AF0>}\n"
     ]
    }
   ],
   "source": [
    "lsvc_pipe=Pipeline([(\"vectorizer\",CountVectorizer()),\n",
    "             (\"normalizer\",preprocessing.Normalizer()),\n",
    "            (\"classifier\",LinearSVC())])\n",
    "\n",
    "lsvc_grid={\"vectorizer__tokenizer\":[heb_token],\n",
    "            \"normalizer__norm\":[\"l1\",\"l2\"],\n",
    "            'classifier__C': [0.1, 1, 10],\n",
    "            'classifier__loss': ['hinge', 'squared_hinge'],\n",
    "            'classifier__class_weight': [None, 'balanced']\n",
    "          }\n",
    "\n",
    "search_lsvc=GridSearchCV(lsvc_pipe,lsvc_grid,cv=10,scoring=\"f1_macro\")\n",
    "search_lsvc.fit(X,y)\n",
    "print(\"Best parameter (CV score=%0.3f):\" % search_lsvc.best_score_)\n",
    "print(search_lsvc.best_params_)"
   ]
  },
  {
   "cell_type": "markdown",
   "metadata": {},
   "source": [
    "### Save output to csv (optional)\n",
    "After you're done save your output to the 'classification_results.csv' csv file.<br/>\n",
    "We assume that the dataframe with your results contain the following columns:\n",
    "* column 1 (left column): 'test_example_id'  - the same id associated to each of the test stories to be predicted.\n",
    "* column 2 (right column): 'predicted_category' - the predicted gender value for each of the associated story. \n",
    "\n",
    "Assuming your predicted values are in the `df_predicted` dataframe, you should save you're results as following:"
   ]
  },
  {
   "cell_type": "code",
   "execution_count": null,
   "metadata": {},
   "outputs": [],
   "source": [
    "df_predicted.to_csv('classification_results.csv',index=False)"
   ]
  }
 ],
 "metadata": {
  "celltoolbar": "Create Assignment",
  "kernelspec": {
   "display_name": "Python 3 (ipykernel)",
   "language": "python",
   "name": "python3"
  },
  "language_info": {
   "codemirror_mode": {
    "name": "ipython",
    "version": 3
   },
   "file_extension": ".py",
   "mimetype": "text/x-python",
   "name": "python",
   "nbconvert_exporter": "python",
   "pygments_lexer": "ipython3",
   "version": "3.11.4"
  }
 },
 "nbformat": 4,
 "nbformat_minor": 4
}
